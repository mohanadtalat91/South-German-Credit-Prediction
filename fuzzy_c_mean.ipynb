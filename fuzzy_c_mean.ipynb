{
 "cells": [
  {
   "cell_type": "code",
   "execution_count": 1,
   "id": "1868ad51",
   "metadata": {},
   "outputs": [
    {
     "name": "stderr",
     "output_type": "stream",
     "text": [
      "C:\\Users\\Mohanad\\anaconda3\\lib\\site-packages\\scipy\\__init__.py:146: UserWarning: A NumPy version >=1.16.5 and <1.23.0 is required for this version of SciPy (detected version 1.23.4\n",
      "  warnings.warn(f\"A NumPy version >={np_minversion} and <{np_maxversion}\"\n"
     ]
    }
   ],
   "source": [
    "import pandas as pd \n",
    "import numpy as np \n",
    "from sklearn.preprocessing import StandardScaler, MinMaxScaler\n",
    "from sklearn.svm import SVC\n",
    "from sklearn.cluster import KMeans \n",
    "from fcmeans import FCM\n",
    "import random\n",
    "import operator\n",
    "import math\n",
    "import warnings\n",
    "import matplotlib.pyplot as plt\n",
    "from sklearn.metrics import accuracy_score\n",
    "from sklearn.metrics import precision_score\n",
    "from sklearn.metrics import recall_score\n",
    "from sklearn.metrics import f1_score\n",
    "\n",
    "warnings.filterwarnings(\"ignore\", category=np.VisibleDeprecationWarning) \n"
   ]
  },
  {
   "cell_type": "code",
   "execution_count": 2,
   "id": "1b69ba2a",
   "metadata": {},
   "outputs": [],
   "source": [
    "df = pd.read_csv('train.csv')"
   ]
  },
  {
   "cell_type": "code",
   "execution_count": 3,
   "id": "a79a68fc",
   "metadata": {},
   "outputs": [
    {
     "data": {
      "text/plain": [
       "(800, 22)"
      ]
     },
     "execution_count": 3,
     "metadata": {},
     "output_type": "execute_result"
    }
   ],
   "source": [
    "df.shape"
   ]
  },
  {
   "cell_type": "code",
   "execution_count": 4,
   "id": "46082c0b",
   "metadata": {},
   "outputs": [
    {
     "data": {
      "text/html": [
       "<div>\n",
       "<style scoped>\n",
       "    .dataframe tbody tr th:only-of-type {\n",
       "        vertical-align: middle;\n",
       "    }\n",
       "\n",
       "    .dataframe tbody tr th {\n",
       "        vertical-align: top;\n",
       "    }\n",
       "\n",
       "    .dataframe thead th {\n",
       "        text-align: right;\n",
       "    }\n",
       "</style>\n",
       "<table border=\"1\" class=\"dataframe\">\n",
       "  <thead>\n",
       "    <tr style=\"text-align: right;\">\n",
       "      <th></th>\n",
       "      <th>Id</th>\n",
       "      <th>laufkont</th>\n",
       "      <th>laufzeit</th>\n",
       "      <th>moral</th>\n",
       "      <th>verw</th>\n",
       "      <th>hoehe</th>\n",
       "      <th>sparkont</th>\n",
       "      <th>beszeit</th>\n",
       "      <th>rate</th>\n",
       "      <th>famges</th>\n",
       "      <th>...</th>\n",
       "      <th>verm</th>\n",
       "      <th>alter</th>\n",
       "      <th>weitkred</th>\n",
       "      <th>wohn</th>\n",
       "      <th>bishkred</th>\n",
       "      <th>beruf</th>\n",
       "      <th>pers</th>\n",
       "      <th>telef</th>\n",
       "      <th>gastarb</th>\n",
       "      <th>kredit</th>\n",
       "    </tr>\n",
       "  </thead>\n",
       "  <tbody>\n",
       "    <tr>\n",
       "      <th>0</th>\n",
       "      <td>0</td>\n",
       "      <td>1</td>\n",
       "      <td>18</td>\n",
       "      <td>4</td>\n",
       "      <td>2</td>\n",
       "      <td>1049</td>\n",
       "      <td>1</td>\n",
       "      <td>2</td>\n",
       "      <td>4</td>\n",
       "      <td>2</td>\n",
       "      <td>...</td>\n",
       "      <td>2</td>\n",
       "      <td>21</td>\n",
       "      <td>3</td>\n",
       "      <td>1</td>\n",
       "      <td>1</td>\n",
       "      <td>3</td>\n",
       "      <td>2</td>\n",
       "      <td>1</td>\n",
       "      <td>2</td>\n",
       "      <td>1</td>\n",
       "    </tr>\n",
       "    <tr>\n",
       "      <th>1</th>\n",
       "      <td>1</td>\n",
       "      <td>1</td>\n",
       "      <td>9</td>\n",
       "      <td>4</td>\n",
       "      <td>0</td>\n",
       "      <td>2799</td>\n",
       "      <td>1</td>\n",
       "      <td>3</td>\n",
       "      <td>2</td>\n",
       "      <td>3</td>\n",
       "      <td>...</td>\n",
       "      <td>1</td>\n",
       "      <td>36</td>\n",
       "      <td>3</td>\n",
       "      <td>1</td>\n",
       "      <td>2</td>\n",
       "      <td>3</td>\n",
       "      <td>1</td>\n",
       "      <td>1</td>\n",
       "      <td>2</td>\n",
       "      <td>1</td>\n",
       "    </tr>\n",
       "    <tr>\n",
       "      <th>2</th>\n",
       "      <td>2</td>\n",
       "      <td>2</td>\n",
       "      <td>12</td>\n",
       "      <td>2</td>\n",
       "      <td>9</td>\n",
       "      <td>841</td>\n",
       "      <td>2</td>\n",
       "      <td>4</td>\n",
       "      <td>2</td>\n",
       "      <td>2</td>\n",
       "      <td>...</td>\n",
       "      <td>1</td>\n",
       "      <td>23</td>\n",
       "      <td>3</td>\n",
       "      <td>1</td>\n",
       "      <td>1</td>\n",
       "      <td>2</td>\n",
       "      <td>2</td>\n",
       "      <td>1</td>\n",
       "      <td>2</td>\n",
       "      <td>1</td>\n",
       "    </tr>\n",
       "    <tr>\n",
       "      <th>3</th>\n",
       "      <td>3</td>\n",
       "      <td>1</td>\n",
       "      <td>12</td>\n",
       "      <td>4</td>\n",
       "      <td>0</td>\n",
       "      <td>2122</td>\n",
       "      <td>1</td>\n",
       "      <td>3</td>\n",
       "      <td>3</td>\n",
       "      <td>3</td>\n",
       "      <td>...</td>\n",
       "      <td>1</td>\n",
       "      <td>39</td>\n",
       "      <td>3</td>\n",
       "      <td>1</td>\n",
       "      <td>2</td>\n",
       "      <td>2</td>\n",
       "      <td>1</td>\n",
       "      <td>1</td>\n",
       "      <td>1</td>\n",
       "      <td>1</td>\n",
       "    </tr>\n",
       "    <tr>\n",
       "      <th>4</th>\n",
       "      <td>5</td>\n",
       "      <td>1</td>\n",
       "      <td>10</td>\n",
       "      <td>4</td>\n",
       "      <td>0</td>\n",
       "      <td>2241</td>\n",
       "      <td>1</td>\n",
       "      <td>2</td>\n",
       "      <td>1</td>\n",
       "      <td>3</td>\n",
       "      <td>...</td>\n",
       "      <td>1</td>\n",
       "      <td>48</td>\n",
       "      <td>3</td>\n",
       "      <td>1</td>\n",
       "      <td>2</td>\n",
       "      <td>2</td>\n",
       "      <td>1</td>\n",
       "      <td>1</td>\n",
       "      <td>1</td>\n",
       "      <td>1</td>\n",
       "    </tr>\n",
       "  </tbody>\n",
       "</table>\n",
       "<p>5 rows × 22 columns</p>\n",
       "</div>"
      ],
      "text/plain": [
       "   Id  laufkont  laufzeit  moral  verw  hoehe  sparkont  beszeit  rate  \\\n",
       "0   0         1        18      4     2   1049         1        2     4   \n",
       "1   1         1         9      4     0   2799         1        3     2   \n",
       "2   2         2        12      2     9    841         2        4     2   \n",
       "3   3         1        12      4     0   2122         1        3     3   \n",
       "4   5         1        10      4     0   2241         1        2     1   \n",
       "\n",
       "   famges  ...  verm  alter  weitkred  wohn  bishkred  beruf  pers  telef  \\\n",
       "0       2  ...     2     21         3     1         1      3     2      1   \n",
       "1       3  ...     1     36         3     1         2      3     1      1   \n",
       "2       2  ...     1     23         3     1         1      2     2      1   \n",
       "3       3  ...     1     39         3     1         2      2     1      1   \n",
       "4       3  ...     1     48         3     1         2      2     1      1   \n",
       "\n",
       "   gastarb  kredit  \n",
       "0        2       1  \n",
       "1        2       1  \n",
       "2        2       1  \n",
       "3        1       1  \n",
       "4        1       1  \n",
       "\n",
       "[5 rows x 22 columns]"
      ]
     },
     "execution_count": 4,
     "metadata": {},
     "output_type": "execute_result"
    }
   ],
   "source": [
    "df.head()"
   ]
  },
  {
   "cell_type": "code",
   "execution_count": 5,
   "id": "3bc122c0",
   "metadata": {
    "scrolled": true
   },
   "outputs": [],
   "source": [
    "X = df.drop(['Id','kredit', 'gastarb', 'telef', 'laufkont', 'pers'], axis=1)"
   ]
  },
  {
   "cell_type": "code",
   "execution_count": 6,
   "id": "f42e3451",
   "metadata": {},
   "outputs": [
    {
     "data": {
      "text/html": [
       "<div>\n",
       "<style scoped>\n",
       "    .dataframe tbody tr th:only-of-type {\n",
       "        vertical-align: middle;\n",
       "    }\n",
       "\n",
       "    .dataframe tbody tr th {\n",
       "        vertical-align: top;\n",
       "    }\n",
       "\n",
       "    .dataframe thead th {\n",
       "        text-align: right;\n",
       "    }\n",
       "</style>\n",
       "<table border=\"1\" class=\"dataframe\">\n",
       "  <thead>\n",
       "    <tr style=\"text-align: right;\">\n",
       "      <th></th>\n",
       "      <th>laufzeit</th>\n",
       "      <th>moral</th>\n",
       "      <th>verw</th>\n",
       "      <th>hoehe</th>\n",
       "      <th>sparkont</th>\n",
       "      <th>beszeit</th>\n",
       "      <th>rate</th>\n",
       "      <th>famges</th>\n",
       "      <th>buerge</th>\n",
       "      <th>wohnzeit</th>\n",
       "      <th>verm</th>\n",
       "      <th>alter</th>\n",
       "      <th>weitkred</th>\n",
       "      <th>wohn</th>\n",
       "      <th>bishkred</th>\n",
       "      <th>beruf</th>\n",
       "    </tr>\n",
       "  </thead>\n",
       "  <tbody>\n",
       "    <tr>\n",
       "      <th>0</th>\n",
       "      <td>18</td>\n",
       "      <td>4</td>\n",
       "      <td>2</td>\n",
       "      <td>1049</td>\n",
       "      <td>1</td>\n",
       "      <td>2</td>\n",
       "      <td>4</td>\n",
       "      <td>2</td>\n",
       "      <td>1</td>\n",
       "      <td>4</td>\n",
       "      <td>2</td>\n",
       "      <td>21</td>\n",
       "      <td>3</td>\n",
       "      <td>1</td>\n",
       "      <td>1</td>\n",
       "      <td>3</td>\n",
       "    </tr>\n",
       "    <tr>\n",
       "      <th>1</th>\n",
       "      <td>9</td>\n",
       "      <td>4</td>\n",
       "      <td>0</td>\n",
       "      <td>2799</td>\n",
       "      <td>1</td>\n",
       "      <td>3</td>\n",
       "      <td>2</td>\n",
       "      <td>3</td>\n",
       "      <td>1</td>\n",
       "      <td>2</td>\n",
       "      <td>1</td>\n",
       "      <td>36</td>\n",
       "      <td>3</td>\n",
       "      <td>1</td>\n",
       "      <td>2</td>\n",
       "      <td>3</td>\n",
       "    </tr>\n",
       "    <tr>\n",
       "      <th>2</th>\n",
       "      <td>12</td>\n",
       "      <td>2</td>\n",
       "      <td>9</td>\n",
       "      <td>841</td>\n",
       "      <td>2</td>\n",
       "      <td>4</td>\n",
       "      <td>2</td>\n",
       "      <td>2</td>\n",
       "      <td>1</td>\n",
       "      <td>4</td>\n",
       "      <td>1</td>\n",
       "      <td>23</td>\n",
       "      <td>3</td>\n",
       "      <td>1</td>\n",
       "      <td>1</td>\n",
       "      <td>2</td>\n",
       "    </tr>\n",
       "    <tr>\n",
       "      <th>3</th>\n",
       "      <td>12</td>\n",
       "      <td>4</td>\n",
       "      <td>0</td>\n",
       "      <td>2122</td>\n",
       "      <td>1</td>\n",
       "      <td>3</td>\n",
       "      <td>3</td>\n",
       "      <td>3</td>\n",
       "      <td>1</td>\n",
       "      <td>2</td>\n",
       "      <td>1</td>\n",
       "      <td>39</td>\n",
       "      <td>3</td>\n",
       "      <td>1</td>\n",
       "      <td>2</td>\n",
       "      <td>2</td>\n",
       "    </tr>\n",
       "    <tr>\n",
       "      <th>4</th>\n",
       "      <td>10</td>\n",
       "      <td>4</td>\n",
       "      <td>0</td>\n",
       "      <td>2241</td>\n",
       "      <td>1</td>\n",
       "      <td>2</td>\n",
       "      <td>1</td>\n",
       "      <td>3</td>\n",
       "      <td>1</td>\n",
       "      <td>3</td>\n",
       "      <td>1</td>\n",
       "      <td>48</td>\n",
       "      <td>3</td>\n",
       "      <td>1</td>\n",
       "      <td>2</td>\n",
       "      <td>2</td>\n",
       "    </tr>\n",
       "  </tbody>\n",
       "</table>\n",
       "</div>"
      ],
      "text/plain": [
       "   laufzeit  moral  verw  hoehe  sparkont  beszeit  rate  famges  buerge  \\\n",
       "0        18      4     2   1049         1        2     4       2       1   \n",
       "1         9      4     0   2799         1        3     2       3       1   \n",
       "2        12      2     9    841         2        4     2       2       1   \n",
       "3        12      4     0   2122         1        3     3       3       1   \n",
       "4        10      4     0   2241         1        2     1       3       1   \n",
       "\n",
       "   wohnzeit  verm  alter  weitkred  wohn  bishkred  beruf  \n",
       "0         4     2     21         3     1         1      3  \n",
       "1         2     1     36         3     1         2      3  \n",
       "2         4     1     23         3     1         1      2  \n",
       "3         2     1     39         3     1         2      2  \n",
       "4         3     1     48         3     1         2      2  "
      ]
     },
     "execution_count": 6,
     "metadata": {},
     "output_type": "execute_result"
    }
   ],
   "source": [
    "X.head()"
   ]
  },
  {
   "cell_type": "code",
   "execution_count": 7,
   "id": "6f82a2f1",
   "metadata": {},
   "outputs": [
    {
     "data": {
      "text/plain": [
       "(800, 16)"
      ]
     },
     "execution_count": 7,
     "metadata": {},
     "output_type": "execute_result"
    }
   ],
   "source": [
    "X.shape"
   ]
  },
  {
   "cell_type": "code",
   "execution_count": 8,
   "id": "fae240d2",
   "metadata": {
    "scrolled": false
   },
   "outputs": [
    {
     "data": {
      "text/plain": [
       "laufzeit    0\n",
       "moral       0\n",
       "verw        0\n",
       "hoehe       0\n",
       "sparkont    0\n",
       "beszeit     0\n",
       "rate        0\n",
       "famges      0\n",
       "buerge      0\n",
       "wohnzeit    0\n",
       "verm        0\n",
       "alter       0\n",
       "weitkred    0\n",
       "wohn        0\n",
       "bishkred    0\n",
       "beruf       0\n",
       "dtype: int64"
      ]
     },
     "execution_count": 8,
     "metadata": {},
     "output_type": "execute_result"
    }
   ],
   "source": [
    "X.isnull().sum()"
   ]
  },
  {
   "cell_type": "code",
   "execution_count": 9,
   "id": "ca005b7e",
   "metadata": {},
   "outputs": [
    {
     "data": {
      "text/html": [
       "<div>\n",
       "<style scoped>\n",
       "    .dataframe tbody tr th:only-of-type {\n",
       "        vertical-align: middle;\n",
       "    }\n",
       "\n",
       "    .dataframe tbody tr th {\n",
       "        vertical-align: top;\n",
       "    }\n",
       "\n",
       "    .dataframe thead th {\n",
       "        text-align: right;\n",
       "    }\n",
       "</style>\n",
       "<table border=\"1\" class=\"dataframe\">\n",
       "  <thead>\n",
       "    <tr style=\"text-align: right;\">\n",
       "      <th></th>\n",
       "      <th>laufzeit</th>\n",
       "      <th>moral</th>\n",
       "      <th>verw</th>\n",
       "      <th>hoehe</th>\n",
       "      <th>sparkont</th>\n",
       "      <th>beszeit</th>\n",
       "      <th>rate</th>\n",
       "      <th>famges</th>\n",
       "      <th>buerge</th>\n",
       "      <th>wohnzeit</th>\n",
       "      <th>verm</th>\n",
       "      <th>alter</th>\n",
       "      <th>weitkred</th>\n",
       "      <th>wohn</th>\n",
       "      <th>bishkred</th>\n",
       "      <th>beruf</th>\n",
       "    </tr>\n",
       "  </thead>\n",
       "  <tbody>\n",
       "    <tr>\n",
       "      <th>0</th>\n",
       "      <td>18</td>\n",
       "      <td>4</td>\n",
       "      <td>2</td>\n",
       "      <td>1049</td>\n",
       "      <td>1</td>\n",
       "      <td>2</td>\n",
       "      <td>4</td>\n",
       "      <td>2</td>\n",
       "      <td>1</td>\n",
       "      <td>4</td>\n",
       "      <td>2</td>\n",
       "      <td>21</td>\n",
       "      <td>3</td>\n",
       "      <td>1</td>\n",
       "      <td>1</td>\n",
       "      <td>3</td>\n",
       "    </tr>\n",
       "    <tr>\n",
       "      <th>1</th>\n",
       "      <td>9</td>\n",
       "      <td>4</td>\n",
       "      <td>0</td>\n",
       "      <td>2799</td>\n",
       "      <td>1</td>\n",
       "      <td>3</td>\n",
       "      <td>2</td>\n",
       "      <td>3</td>\n",
       "      <td>1</td>\n",
       "      <td>2</td>\n",
       "      <td>1</td>\n",
       "      <td>36</td>\n",
       "      <td>3</td>\n",
       "      <td>1</td>\n",
       "      <td>2</td>\n",
       "      <td>3</td>\n",
       "    </tr>\n",
       "    <tr>\n",
       "      <th>2</th>\n",
       "      <td>12</td>\n",
       "      <td>2</td>\n",
       "      <td>9</td>\n",
       "      <td>841</td>\n",
       "      <td>2</td>\n",
       "      <td>4</td>\n",
       "      <td>2</td>\n",
       "      <td>2</td>\n",
       "      <td>1</td>\n",
       "      <td>4</td>\n",
       "      <td>1</td>\n",
       "      <td>23</td>\n",
       "      <td>3</td>\n",
       "      <td>1</td>\n",
       "      <td>1</td>\n",
       "      <td>2</td>\n",
       "    </tr>\n",
       "    <tr>\n",
       "      <th>3</th>\n",
       "      <td>12</td>\n",
       "      <td>4</td>\n",
       "      <td>0</td>\n",
       "      <td>2122</td>\n",
       "      <td>1</td>\n",
       "      <td>3</td>\n",
       "      <td>3</td>\n",
       "      <td>3</td>\n",
       "      <td>1</td>\n",
       "      <td>2</td>\n",
       "      <td>1</td>\n",
       "      <td>39</td>\n",
       "      <td>3</td>\n",
       "      <td>1</td>\n",
       "      <td>2</td>\n",
       "      <td>2</td>\n",
       "    </tr>\n",
       "    <tr>\n",
       "      <th>4</th>\n",
       "      <td>10</td>\n",
       "      <td>4</td>\n",
       "      <td>0</td>\n",
       "      <td>2241</td>\n",
       "      <td>1</td>\n",
       "      <td>2</td>\n",
       "      <td>1</td>\n",
       "      <td>3</td>\n",
       "      <td>1</td>\n",
       "      <td>3</td>\n",
       "      <td>1</td>\n",
       "      <td>48</td>\n",
       "      <td>3</td>\n",
       "      <td>1</td>\n",
       "      <td>2</td>\n",
       "      <td>2</td>\n",
       "    </tr>\n",
       "    <tr>\n",
       "      <th>...</th>\n",
       "      <td>...</td>\n",
       "      <td>...</td>\n",
       "      <td>...</td>\n",
       "      <td>...</td>\n",
       "      <td>...</td>\n",
       "      <td>...</td>\n",
       "      <td>...</td>\n",
       "      <td>...</td>\n",
       "      <td>...</td>\n",
       "      <td>...</td>\n",
       "      <td>...</td>\n",
       "      <td>...</td>\n",
       "      <td>...</td>\n",
       "      <td>...</td>\n",
       "      <td>...</td>\n",
       "      <td>...</td>\n",
       "    </tr>\n",
       "    <tr>\n",
       "      <th>795</th>\n",
       "      <td>18</td>\n",
       "      <td>4</td>\n",
       "      <td>0</td>\n",
       "      <td>3966</td>\n",
       "      <td>1</td>\n",
       "      <td>5</td>\n",
       "      <td>1</td>\n",
       "      <td>2</td>\n",
       "      <td>1</td>\n",
       "      <td>4</td>\n",
       "      <td>1</td>\n",
       "      <td>33</td>\n",
       "      <td>1</td>\n",
       "      <td>1</td>\n",
       "      <td>3</td>\n",
       "      <td>3</td>\n",
       "    </tr>\n",
       "    <tr>\n",
       "      <th>796</th>\n",
       "      <td>12</td>\n",
       "      <td>0</td>\n",
       "      <td>3</td>\n",
       "      <td>6199</td>\n",
       "      <td>1</td>\n",
       "      <td>3</td>\n",
       "      <td>4</td>\n",
       "      <td>3</td>\n",
       "      <td>1</td>\n",
       "      <td>2</td>\n",
       "      <td>2</td>\n",
       "      <td>28</td>\n",
       "      <td>3</td>\n",
       "      <td>1</td>\n",
       "      <td>2</td>\n",
       "      <td>3</td>\n",
       "    </tr>\n",
       "    <tr>\n",
       "      <th>797</th>\n",
       "      <td>21</td>\n",
       "      <td>4</td>\n",
       "      <td>0</td>\n",
       "      <td>12680</td>\n",
       "      <td>5</td>\n",
       "      <td>5</td>\n",
       "      <td>4</td>\n",
       "      <td>3</td>\n",
       "      <td>1</td>\n",
       "      <td>4</td>\n",
       "      <td>4</td>\n",
       "      <td>30</td>\n",
       "      <td>3</td>\n",
       "      <td>3</td>\n",
       "      <td>1</td>\n",
       "      <td>4</td>\n",
       "    </tr>\n",
       "    <tr>\n",
       "      <th>798</th>\n",
       "      <td>12</td>\n",
       "      <td>2</td>\n",
       "      <td>3</td>\n",
       "      <td>6468</td>\n",
       "      <td>5</td>\n",
       "      <td>1</td>\n",
       "      <td>2</td>\n",
       "      <td>3</td>\n",
       "      <td>1</td>\n",
       "      <td>1</td>\n",
       "      <td>4</td>\n",
       "      <td>52</td>\n",
       "      <td>3</td>\n",
       "      <td>2</td>\n",
       "      <td>1</td>\n",
       "      <td>4</td>\n",
       "    </tr>\n",
       "    <tr>\n",
       "      <th>799</th>\n",
       "      <td>30</td>\n",
       "      <td>2</td>\n",
       "      <td>2</td>\n",
       "      <td>6350</td>\n",
       "      <td>5</td>\n",
       "      <td>5</td>\n",
       "      <td>4</td>\n",
       "      <td>3</td>\n",
       "      <td>1</td>\n",
       "      <td>4</td>\n",
       "      <td>2</td>\n",
       "      <td>31</td>\n",
       "      <td>3</td>\n",
       "      <td>2</td>\n",
       "      <td>1</td>\n",
       "      <td>3</td>\n",
       "    </tr>\n",
       "  </tbody>\n",
       "</table>\n",
       "<p>800 rows × 16 columns</p>\n",
       "</div>"
      ],
      "text/plain": [
       "     laufzeit  moral  verw  hoehe  sparkont  beszeit  rate  famges  buerge  \\\n",
       "0          18      4     2   1049         1        2     4       2       1   \n",
       "1           9      4     0   2799         1        3     2       3       1   \n",
       "2          12      2     9    841         2        4     2       2       1   \n",
       "3          12      4     0   2122         1        3     3       3       1   \n",
       "4          10      4     0   2241         1        2     1       3       1   \n",
       "..        ...    ...   ...    ...       ...      ...   ...     ...     ...   \n",
       "795        18      4     0   3966         1        5     1       2       1   \n",
       "796        12      0     3   6199         1        3     4       3       1   \n",
       "797        21      4     0  12680         5        5     4       3       1   \n",
       "798        12      2     3   6468         5        1     2       3       1   \n",
       "799        30      2     2   6350         5        5     4       3       1   \n",
       "\n",
       "     wohnzeit  verm  alter  weitkred  wohn  bishkred  beruf  \n",
       "0           4     2     21         3     1         1      3  \n",
       "1           2     1     36         3     1         2      3  \n",
       "2           4     1     23         3     1         1      2  \n",
       "3           2     1     39         3     1         2      2  \n",
       "4           3     1     48         3     1         2      2  \n",
       "..        ...   ...    ...       ...   ...       ...    ...  \n",
       "795         4     1     33         1     1         3      3  \n",
       "796         2     2     28         3     1         2      3  \n",
       "797         4     4     30         3     3         1      4  \n",
       "798         1     4     52         3     2         1      4  \n",
       "799         4     2     31         3     2         1      3  \n",
       "\n",
       "[800 rows x 16 columns]"
      ]
     },
     "execution_count": 9,
     "metadata": {},
     "output_type": "execute_result"
    }
   ],
   "source": [
    "scale = StandardScaler()\n",
    "X_scaled = X # pd.DataFrame(scale.fit_transform(X.values), columns=X.columns)\n",
    "X_scaled "
   ]
  },
  {
   "cell_type": "code",
   "execution_count": 10,
   "id": "f1a0cc64",
   "metadata": {},
   "outputs": [
    {
     "data": {
      "text/plain": [
       "(800, 16)"
      ]
     },
     "execution_count": 10,
     "metadata": {},
     "output_type": "execute_result"
    }
   ],
   "source": [
    "X_scaled.shape"
   ]
  },
  {
   "cell_type": "code",
   "execution_count": 11,
   "id": "dfa55e70",
   "metadata": {},
   "outputs": [],
   "source": [
    "k = 3 # number of clusters"
   ]
  },
  {
   "cell_type": "code",
   "execution_count": 12,
   "id": "7a8eb78f",
   "metadata": {},
   "outputs": [],
   "source": [
    "m = 2 # m parameter"
   ]
  },
  {
   "cell_type": "code",
   "execution_count": 13,
   "id": "451c89c8",
   "metadata": {},
   "outputs": [],
   "source": [
    "MAX_ITERS = 12  # number of iterations"
   ]
  },
  {
   "cell_type": "code",
   "execution_count": 14,
   "id": "d1dee1e3",
   "metadata": {},
   "outputs": [
    {
     "data": {
      "text/plain": [
       "800"
      ]
     },
     "execution_count": 14,
     "metadata": {},
     "output_type": "execute_result"
    }
   ],
   "source": [
    "n = X_scaled.shape[0]\n",
    "n "
   ]
  },
  {
   "cell_type": "code",
   "execution_count": 15,
   "id": "9868c6a6",
   "metadata": {},
   "outputs": [
    {
     "data": {
      "text/plain": [
       "16"
      ]
     },
     "execution_count": 15,
     "metadata": {},
     "output_type": "execute_result"
    }
   ],
   "source": [
    "d = X_scaled.shape[1] #dimension of cluster\n",
    "d"
   ]
  },
  {
   "cell_type": "code",
   "execution_count": 16,
   "id": "1fc23118",
   "metadata": {},
   "outputs": [],
   "source": [
    "def initializeMembershipMatrix():\n",
    "    membership_mat = list()\n",
    "    for i in range(n):\n",
    "        random_num_list = [random.random() for i in range(k)]\n",
    "        summation = sum(random_num_list)\n",
    "        temp_list = [x/summation for x in random_num_list]\n",
    "        membership_mat.append(temp_list)\n",
    "    return membership_mat"
   ]
  },
  {
   "cell_type": "code",
   "execution_count": 17,
   "id": "489077bc",
   "metadata": {},
   "outputs": [],
   "source": [
    "def calculateClusterCenter(membership_mat):\n",
    "    cluster_mem_val = list(zip(*membership_mat))\n",
    "    cluster_centers = list()\n",
    "    for j in range(k):\n",
    "        x = list(cluster_mem_val[j])\n",
    "        xraised = [e ** m for e in x]\n",
    "        denominator = sum(xraised)\n",
    "        temp_num = list()\n",
    "        for i in range(n):\n",
    "            data_point = list(X_scaled.iloc[i])\n",
    "            prod = [xraised[i] * val for val in data_point]\n",
    "            temp_num.append(prod)\n",
    "        numerator = map(sum, zip(*temp_num))\n",
    "        center = [z/denominator for z in numerator]\n",
    "        cluster_centers.append(center)\n",
    "    return cluster_centers"
   ]
  },
  {
   "cell_type": "code",
   "execution_count": 18,
   "id": "e89989ae",
   "metadata": {},
   "outputs": [],
   "source": [
    "def updateMembershipValue(membership_mat, cluster_centers):\n",
    "    p = float(2/(m-1))\n",
    "    for i in range(n):\n",
    "        x = list(X_scaled.iloc[i])\n",
    "        distances = [np.linalg.norm(list(map(operator.sub, x, cluster_centers[j]))) for j in range(k)]\n",
    "        for j in range(k):\n",
    "            den = sum([math.pow(float(distances[j]/distances[c]), p) for c in range(k)])\n",
    "            membership_mat[i][j] = float(1/den)       \n",
    "    return membership_mat"
   ]
  },
  {
   "cell_type": "code",
   "execution_count": 19,
   "id": "ef4226d7",
   "metadata": {},
   "outputs": [],
   "source": [
    "def fuzzyCMeansClustering():\n",
    "    # Membership Matrix\n",
    "    membership_mat = initializeMembershipMatrix()\n",
    "\n",
    "    for i in range(MAX_ITERS):\n",
    "        cluster_centers = calculateClusterCenter(membership_mat)\n",
    "        membership_mat = updateMembershipValue(membership_mat, cluster_centers)\n",
    "        \n",
    "    return membership_mat, cluster_centers"
   ]
  },
  {
   "cell_type": "code",
   "execution_count": 20,
   "id": "c489eefa",
   "metadata": {},
   "outputs": [],
   "source": [
    "final_weights,Centers = fuzzyCMeansClustering()"
   ]
  },
  {
   "cell_type": "code",
   "execution_count": 21,
   "id": "b36c17eb",
   "metadata": {},
   "outputs": [
    {
     "data": {
      "text/plain": [
       "array([[0.02, 0.  , 0.98],\n",
       "       [0.54, 0.02, 0.44],\n",
       "       [0.04, 0.01, 0.96],\n",
       "       ...,\n",
       "       [0.12, 0.81, 0.07],\n",
       "       [0.51, 0.36, 0.13],\n",
       "       [0.55, 0.33, 0.13]])"
      ]
     },
     "execution_count": 21,
     "metadata": {},
     "output_type": "execute_result"
    }
   ],
   "source": [
    "final_weights = np.asarray(final_weights).round(2)\n",
    "final_weights"
   ]
  },
  {
   "cell_type": "code",
   "execution_count": 22,
   "id": "0b9291dd",
   "metadata": {},
   "outputs": [
    {
     "data": {
      "text/plain": [
       "(800, 3)"
      ]
     },
     "execution_count": 22,
     "metadata": {},
     "output_type": "execute_result"
    }
   ],
   "source": [
    "final_weights.shape"
   ]
  },
  {
   "cell_type": "code",
   "execution_count": 23,
   "id": "2129787c",
   "metadata": {},
   "outputs": [
    {
     "data": {
      "text/plain": [
       "array([[2.46432654e+01, 2.55891100e+00, 2.72523439e+00, 3.99296885e+03,\n",
       "        2.09978898e+00, 3.39829500e+00, 2.64666826e+00, 2.64878830e+00,\n",
       "        1.15325327e+00, 2.86673629e+00, 2.50190684e+00, 3.45343532e+01,\n",
       "        2.70875597e+00, 1.93782431e+00, 1.41269803e+00, 2.94617365e+00],\n",
       "       [3.64267902e+01, 2.42162810e+00, 2.76451399e+00, 9.39815542e+03,\n",
       "        2.62841450e+00, 3.26085559e+00, 2.28665974e+00, 2.68055504e+00,\n",
       "        1.10732677e+00, 2.79120114e+00, 3.02939160e+00, 3.64427627e+01,\n",
       "        2.59920160e+00, 2.13413407e+00, 1.35729878e+00, 3.26775057e+00],\n",
       "       [1.47819954e+01, 2.62176337e+00, 2.81510255e+00, 1.48198422e+03,\n",
       "        2.06375452e+00, 3.40691234e+00, 3.24608793e+00, 2.70454329e+00,\n",
       "        1.15026326e+00, 2.78209770e+00, 2.11204731e+00, 3.57761907e+01,\n",
       "        2.68080036e+00, 1.90263353e+00, 1.43862060e+00, 2.77876205e+00]])"
      ]
     },
     "execution_count": 23,
     "metadata": {},
     "output_type": "execute_result"
    }
   ],
   "source": [
    "Centers = np.asarray(Centers)\n",
    "Centers"
   ]
  },
  {
   "cell_type": "code",
   "execution_count": 24,
   "id": "fd6c9218",
   "metadata": {},
   "outputs": [
    {
     "data": {
      "text/plain": [
       "(3, 16)"
      ]
     },
     "execution_count": 24,
     "metadata": {},
     "output_type": "execute_result"
    }
   ],
   "source": [
    "Centers.shape"
   ]
  },
  {
   "cell_type": "code",
   "execution_count": 25,
   "id": "d07ef782",
   "metadata": {},
   "outputs": [],
   "source": [
    "def getAlphaCut(final_weights, threshold):\n",
    "    crisp = np.zeros((n,k))\n",
    "    for i in range(n):\n",
    "        cluster = []\n",
    "        for j in range(k): \n",
    "            #print(final_weights[i,j])\n",
    "            if final_weights[i,j] > threshold:\n",
    "                cluster.append(j+1)\n",
    "                #print(j+1)\n",
    "            else :\n",
    "                cluster.append(0)\n",
    "                #print(0)\n",
    "        \n",
    "        #print(cluster)\n",
    "        crisp[i] = cluster\n",
    "        \n",
    "    return crisp"
   ]
  },
  {
   "cell_type": "code",
   "execution_count": 26,
   "id": "faf534be",
   "metadata": {},
   "outputs": [
    {
     "data": {
      "text/plain": [
       "[[0.0, 0.0, 3.0],\n",
       " [1.0, 0.0, 3.0],\n",
       " [0.0, 0.0, 3.0],\n",
       " [0.0, 0.0, 3.0],\n",
       " [0.0, 0.0, 3.0],\n",
       " [1.0, 0.0, 0.0],\n",
       " [0.0, 0.0, 3.0],\n",
       " [0.0, 0.0, 3.0],\n",
       " [1.0, 0.0, 0.0],\n",
       " [1.0, 0.0, 0.0],\n",
       " [1.0, 0.0, 0.0],\n",
       " [0.0, 0.0, 3.0],\n",
       " [0.0, 2.0, 0.0],\n",
       " [1.0, 0.0, 3.0],\n",
       " [1.0, 0.0, 0.0],\n",
       " [1.0, 0.0, 0.0],\n",
       " [0.0, 2.0, 0.0],\n",
       " [1.0, 0.0, 0.0],\n",
       " [0.0, 0.0, 3.0],\n",
       " [1.0, 0.0, 0.0],\n",
       " [1.0, 0.0, 0.0],\n",
       " [0.0, 0.0, 3.0],\n",
       " [1.0, 0.0, 0.0],\n",
       " [1.0, 0.0, 0.0],\n",
       " [1.0, 0.0, 0.0],\n",
       " [1.0, 0.0, 0.0],\n",
       " [0.0, 0.0, 3.0],\n",
       " [0.0, 0.0, 3.0],\n",
       " [0.0, 0.0, 3.0],\n",
       " [0.0, 0.0, 3.0],\n",
       " [0.0, 0.0, 3.0],\n",
       " [1.0, 0.0, 0.0],\n",
       " [1.0, 0.0, 0.0],\n",
       " [0.0, 0.0, 3.0],\n",
       " [0.0, 0.0, 3.0],\n",
       " [0.0, 0.0, 3.0],\n",
       " [1.0, 0.0, 3.0],\n",
       " [0.0, 0.0, 3.0],\n",
       " [0.0, 0.0, 3.0],\n",
       " [0.0, 0.0, 3.0],\n",
       " [0.0, 0.0, 3.0],\n",
       " [1.0, 0.0, 0.0],\n",
       " [0.0, 0.0, 3.0],\n",
       " [1.0, 0.0, 0.0],\n",
       " [0.0, 0.0, 3.0],\n",
       " [0.0, 0.0, 3.0],\n",
       " [0.0, 0.0, 3.0],\n",
       " [1.0, 0.0, 0.0],\n",
       " [1.0, 0.0, 0.0],\n",
       " [0.0, 0.0, 3.0],\n",
       " [1.0, 0.0, 3.0],\n",
       " [1.0, 0.0, 0.0],\n",
       " [0.0, 2.0, 0.0],\n",
       " [0.0, 0.0, 3.0],\n",
       " [0.0, 0.0, 3.0],\n",
       " [0.0, 0.0, 3.0],\n",
       " [1.0, 0.0, 3.0],\n",
       " [0.0, 0.0, 3.0],\n",
       " [0.0, 0.0, 3.0],\n",
       " [1.0, 0.0, 0.0],\n",
       " [0.0, 0.0, 3.0],\n",
       " [1.0, 0.0, 0.0],\n",
       " [0.0, 0.0, 3.0],\n",
       " [0.0, 0.0, 3.0],\n",
       " [1.0, 0.0, 0.0],\n",
       " [0.0, 0.0, 3.0],\n",
       " [0.0, 0.0, 3.0],\n",
       " [1.0, 0.0, 0.0],\n",
       " [0.0, 0.0, 3.0],\n",
       " [1.0, 0.0, 0.0],\n",
       " [0.0, 0.0, 3.0],\n",
       " [0.0, 0.0, 3.0],\n",
       " [0.0, 0.0, 3.0],\n",
       " [1.0, 0.0, 0.0],\n",
       " [1.0, 0.0, 0.0],\n",
       " [0.0, 0.0, 3.0],\n",
       " [1.0, 0.0, 0.0],\n",
       " [0.0, 0.0, 3.0],\n",
       " [1.0, 0.0, 0.0],\n",
       " [0.0, 2.0, 0.0],\n",
       " [0.0, 0.0, 3.0],\n",
       " [0.0, 0.0, 3.0],\n",
       " [0.0, 0.0, 3.0],\n",
       " [0.0, 0.0, 3.0],\n",
       " [0.0, 0.0, 3.0],\n",
       " [0.0, 0.0, 3.0],\n",
       " [0.0, 0.0, 3.0],\n",
       " [1.0, 0.0, 0.0],\n",
       " [0.0, 0.0, 3.0],\n",
       " [1.0, 0.0, 3.0],\n",
       " [0.0, 0.0, 3.0],\n",
       " [1.0, 0.0, 0.0],\n",
       " [1.0, 0.0, 0.0],\n",
       " [1.0, 0.0, 0.0],\n",
       " [0.0, 0.0, 3.0],\n",
       " [0.0, 0.0, 3.0],\n",
       " [0.0, 0.0, 3.0],\n",
       " [1.0, 0.0, 0.0],\n",
       " [0.0, 0.0, 3.0],\n",
       " [1.0, 0.0, 0.0],\n",
       " [1.0, 0.0, 3.0],\n",
       " [0.0, 0.0, 3.0],\n",
       " [0.0, 0.0, 3.0],\n",
       " [0.0, 0.0, 3.0],\n",
       " [0.0, 0.0, 3.0],\n",
       " [0.0, 0.0, 3.0],\n",
       " [0.0, 0.0, 3.0],\n",
       " [0.0, 0.0, 3.0],\n",
       " [0.0, 0.0, 3.0],\n",
       " [1.0, 0.0, 0.0],\n",
       " [1.0, 0.0, 0.0],\n",
       " [0.0, 0.0, 3.0],\n",
       " [0.0, 0.0, 3.0],\n",
       " [1.0, 0.0, 0.0],\n",
       " [0.0, 0.0, 3.0],\n",
       " [0.0, 0.0, 3.0],\n",
       " [0.0, 0.0, 3.0],\n",
       " [0.0, 0.0, 3.0],\n",
       " [0.0, 0.0, 3.0],\n",
       " [0.0, 2.0, 0.0],\n",
       " [1.0, 0.0, 0.0],\n",
       " [1.0, 0.0, 3.0],\n",
       " [1.0, 0.0, 0.0],\n",
       " [1.0, 0.0, 0.0],\n",
       " [0.0, 0.0, 3.0],\n",
       " [0.0, 0.0, 3.0],\n",
       " [1.0, 0.0, 0.0],\n",
       " [1.0, 0.0, 0.0],\n",
       " [0.0, 0.0, 3.0],\n",
       " [0.0, 0.0, 3.0],\n",
       " [1.0, 0.0, 0.0],\n",
       " [1.0, 0.0, 0.0],\n",
       " [1.0, 0.0, 3.0],\n",
       " [0.0, 0.0, 3.0],\n",
       " [1.0, 0.0, 0.0],\n",
       " [0.0, 0.0, 3.0],\n",
       " [0.0, 0.0, 3.0],\n",
       " [0.0, 0.0, 3.0],\n",
       " [1.0, 0.0, 0.0],\n",
       " [1.0, 0.0, 0.0],\n",
       " [0.0, 0.0, 3.0],\n",
       " [0.0, 0.0, 3.0],\n",
       " [0.0, 2.0, 0.0],\n",
       " [0.0, 0.0, 3.0],\n",
       " [0.0, 0.0, 3.0],\n",
       " [0.0, 2.0, 0.0],\n",
       " [1.0, 0.0, 3.0],\n",
       " [0.0, 0.0, 3.0],\n",
       " [1.0, 0.0, 0.0],\n",
       " [0.0, 0.0, 3.0],\n",
       " [1.0, 0.0, 0.0],\n",
       " [0.0, 0.0, 3.0],\n",
       " [1.0, 0.0, 3.0],\n",
       " [0.0, 0.0, 3.0],\n",
       " [0.0, 2.0, 0.0],\n",
       " [0.0, 0.0, 3.0],\n",
       " [0.0, 0.0, 3.0],\n",
       " [0.0, 2.0, 0.0],\n",
       " [1.0, 2.0, 0.0],\n",
       " [0.0, 0.0, 3.0],\n",
       " [1.0, 0.0, 0.0],\n",
       " [0.0, 0.0, 3.0],\n",
       " [0.0, 0.0, 3.0],\n",
       " [0.0, 2.0, 0.0],\n",
       " [1.0, 0.0, 0.0],\n",
       " [1.0, 0.0, 0.0],\n",
       " [0.0, 0.0, 3.0],\n",
       " [0.0, 2.0, 0.0],\n",
       " [1.0, 0.0, 3.0],\n",
       " [0.0, 0.0, 3.0],\n",
       " [1.0, 0.0, 3.0],\n",
       " [0.0, 0.0, 3.0],\n",
       " [0.0, 0.0, 3.0],\n",
       " [0.0, 0.0, 3.0],\n",
       " [1.0, 0.0, 0.0],\n",
       " [1.0, 0.0, 3.0],\n",
       " [0.0, 0.0, 3.0],\n",
       " [0.0, 2.0, 0.0],\n",
       " [0.0, 0.0, 3.0],\n",
       " [0.0, 0.0, 3.0],\n",
       " [1.0, 0.0, 0.0],\n",
       " [1.0, 0.0, 0.0],\n",
       " [0.0, 2.0, 0.0],\n",
       " [1.0, 0.0, 3.0],\n",
       " [0.0, 0.0, 3.0],\n",
       " [1.0, 0.0, 0.0],\n",
       " [0.0, 0.0, 3.0],\n",
       " [0.0, 0.0, 3.0],\n",
       " [1.0, 0.0, 0.0],\n",
       " [0.0, 0.0, 3.0],\n",
       " [0.0, 2.0, 0.0],\n",
       " [1.0, 0.0, 0.0],\n",
       " [0.0, 0.0, 3.0],\n",
       " [0.0, 0.0, 3.0],\n",
       " [0.0, 0.0, 3.0],\n",
       " [0.0, 0.0, 3.0],\n",
       " [1.0, 0.0, 3.0],\n",
       " [0.0, 0.0, 3.0],\n",
       " [0.0, 0.0, 3.0],\n",
       " [0.0, 0.0, 3.0],\n",
       " [0.0, 0.0, 3.0],\n",
       " [1.0, 0.0, 0.0],\n",
       " [1.0, 0.0, 3.0],\n",
       " [1.0, 0.0, 3.0],\n",
       " [1.0, 0.0, 0.0],\n",
       " [0.0, 0.0, 3.0],\n",
       " [1.0, 0.0, 0.0],\n",
       " [1.0, 0.0, 0.0],\n",
       " [1.0, 0.0, 0.0],\n",
       " [0.0, 0.0, 3.0],\n",
       " [1.0, 0.0, 0.0],\n",
       " [1.0, 0.0, 3.0],\n",
       " [0.0, 0.0, 3.0],\n",
       " [0.0, 0.0, 3.0],\n",
       " [0.0, 0.0, 3.0],\n",
       " [1.0, 0.0, 3.0],\n",
       " [0.0, 0.0, 3.0],\n",
       " [0.0, 0.0, 3.0],\n",
       " [0.0, 0.0, 3.0],\n",
       " [0.0, 2.0, 0.0],\n",
       " [0.0, 0.0, 3.0],\n",
       " [1.0, 0.0, 3.0],\n",
       " [1.0, 0.0, 3.0],\n",
       " [1.0, 0.0, 0.0],\n",
       " [1.0, 0.0, 0.0],\n",
       " [1.0, 0.0, 0.0],\n",
       " [1.0, 0.0, 0.0],\n",
       " [0.0, 0.0, 3.0],\n",
       " [0.0, 0.0, 3.0],\n",
       " [0.0, 0.0, 3.0],\n",
       " [1.0, 0.0, 0.0],\n",
       " [0.0, 0.0, 3.0],\n",
       " [1.0, 0.0, 0.0],\n",
       " [0.0, 0.0, 3.0],\n",
       " [1.0, 0.0, 3.0],\n",
       " [0.0, 0.0, 3.0],\n",
       " [0.0, 0.0, 3.0],\n",
       " [1.0, 0.0, 0.0],\n",
       " [0.0, 0.0, 3.0],\n",
       " [0.0, 0.0, 3.0],\n",
       " [0.0, 0.0, 3.0],\n",
       " [0.0, 2.0, 0.0],\n",
       " [0.0, 0.0, 3.0],\n",
       " [0.0, 0.0, 3.0],\n",
       " [0.0, 0.0, 3.0],\n",
       " [0.0, 0.0, 3.0],\n",
       " [0.0, 0.0, 3.0],\n",
       " [1.0, 0.0, 0.0],\n",
       " [1.0, 0.0, 0.0],\n",
       " [1.0, 0.0, 0.0],\n",
       " [0.0, 0.0, 3.0],\n",
       " [0.0, 0.0, 3.0],\n",
       " [1.0, 0.0, 3.0],\n",
       " [0.0, 2.0, 0.0],\n",
       " [0.0, 0.0, 3.0],\n",
       " [1.0, 0.0, 3.0],\n",
       " [0.0, 0.0, 3.0],\n",
       " [0.0, 0.0, 3.0],\n",
       " [0.0, 0.0, 3.0],\n",
       " [0.0, 0.0, 3.0],\n",
       " [0.0, 0.0, 3.0],\n",
       " [0.0, 0.0, 3.0],\n",
       " [0.0, 0.0, 3.0],\n",
       " [0.0, 0.0, 3.0],\n",
       " [0.0, 0.0, 3.0],\n",
       " [0.0, 0.0, 3.0],\n",
       " [0.0, 0.0, 3.0],\n",
       " [0.0, 0.0, 3.0],\n",
       " [0.0, 0.0, 3.0],\n",
       " [0.0, 0.0, 3.0],\n",
       " [0.0, 0.0, 3.0],\n",
       " [1.0, 0.0, 3.0],\n",
       " [1.0, 0.0, 0.0],\n",
       " [0.0, 0.0, 3.0],\n",
       " [0.0, 0.0, 3.0],\n",
       " [0.0, 0.0, 3.0],\n",
       " [0.0, 0.0, 3.0],\n",
       " [0.0, 0.0, 3.0],\n",
       " [0.0, 0.0, 3.0],\n",
       " [0.0, 0.0, 3.0],\n",
       " [0.0, 0.0, 3.0],\n",
       " [1.0, 0.0, 3.0],\n",
       " [0.0, 0.0, 3.0],\n",
       " [1.0, 0.0, 0.0],\n",
       " [1.0, 0.0, 0.0],\n",
       " [1.0, 0.0, 0.0],\n",
       " [1.0, 0.0, 0.0],\n",
       " [0.0, 0.0, 3.0],\n",
       " [0.0, 0.0, 3.0],\n",
       " [0.0, 0.0, 3.0],\n",
       " [0.0, 0.0, 3.0],\n",
       " [0.0, 0.0, 3.0],\n",
       " [0.0, 0.0, 3.0],\n",
       " [0.0, 0.0, 3.0],\n",
       " [0.0, 0.0, 3.0],\n",
       " [0.0, 0.0, 3.0],\n",
       " [1.0, 0.0, 3.0],\n",
       " [0.0, 0.0, 3.0],\n",
       " [0.0, 0.0, 3.0],\n",
       " [1.0, 0.0, 0.0],\n",
       " [0.0, 0.0, 3.0],\n",
       " [0.0, 0.0, 3.0],\n",
       " [0.0, 0.0, 3.0],\n",
       " [0.0, 0.0, 3.0],\n",
       " [1.0, 0.0, 3.0],\n",
       " [0.0, 0.0, 3.0],\n",
       " [0.0, 0.0, 3.0],\n",
       " [0.0, 0.0, 3.0],\n",
       " [1.0, 0.0, 0.0],\n",
       " [1.0, 0.0, 3.0],\n",
       " [0.0, 2.0, 0.0],\n",
       " [0.0, 0.0, 3.0],\n",
       " [0.0, 0.0, 3.0],\n",
       " [1.0, 0.0, 0.0],\n",
       " [0.0, 0.0, 3.0],\n",
       " [1.0, 2.0, 0.0],\n",
       " [1.0, 0.0, 0.0],\n",
       " [0.0, 2.0, 0.0],\n",
       " [0.0, 0.0, 3.0],\n",
       " [1.0, 0.0, 0.0],\n",
       " [0.0, 0.0, 3.0],\n",
       " [0.0, 2.0, 0.0],\n",
       " [1.0, 0.0, 3.0],\n",
       " [1.0, 0.0, 0.0],\n",
       " [0.0, 0.0, 3.0],\n",
       " [0.0, 0.0, 3.0],\n",
       " [1.0, 0.0, 0.0],\n",
       " [0.0, 0.0, 3.0],\n",
       " [1.0, 2.0, 0.0],\n",
       " [0.0, 0.0, 3.0],\n",
       " [1.0, 0.0, 0.0],\n",
       " [0.0, 0.0, 3.0],\n",
       " [1.0, 0.0, 0.0],\n",
       " [1.0, 0.0, 0.0],\n",
       " [1.0, 0.0, 0.0],\n",
       " [1.0, 0.0, 0.0],\n",
       " [0.0, 0.0, 3.0],\n",
       " [0.0, 2.0, 0.0],\n",
       " [0.0, 0.0, 3.0],\n",
       " [0.0, 0.0, 3.0],\n",
       " [0.0, 0.0, 3.0],\n",
       " [0.0, 0.0, 3.0],\n",
       " [1.0, 0.0, 3.0],\n",
       " [0.0, 0.0, 3.0],\n",
       " [0.0, 0.0, 3.0],\n",
       " [0.0, 0.0, 3.0],\n",
       " [0.0, 0.0, 3.0],\n",
       " [0.0, 0.0, 3.0],\n",
       " [0.0, 0.0, 3.0],\n",
       " [0.0, 0.0, 3.0],\n",
       " [0.0, 0.0, 3.0],\n",
       " [0.0, 2.0, 0.0],\n",
       " [0.0, 0.0, 3.0],\n",
       " [1.0, 0.0, 0.0],\n",
       " [1.0, 0.0, 0.0],\n",
       " [0.0, 0.0, 3.0],\n",
       " [0.0, 0.0, 3.0],\n",
       " [0.0, 0.0, 3.0],\n",
       " [0.0, 0.0, 3.0],\n",
       " [0.0, 0.0, 3.0],\n",
       " [0.0, 0.0, 3.0],\n",
       " [0.0, 0.0, 3.0],\n",
       " [1.0, 0.0, 0.0],\n",
       " [0.0, 0.0, 3.0],\n",
       " [1.0, 0.0, 0.0],\n",
       " [0.0, 0.0, 3.0],\n",
       " [0.0, 0.0, 3.0],\n",
       " [0.0, 0.0, 3.0],\n",
       " [0.0, 0.0, 3.0],\n",
       " [1.0, 0.0, 0.0],\n",
       " [0.0, 0.0, 3.0],\n",
       " [0.0, 0.0, 3.0],\n",
       " [0.0, 2.0, 0.0],\n",
       " [1.0, 0.0, 0.0],\n",
       " [1.0, 0.0, 0.0],\n",
       " [0.0, 2.0, 0.0],\n",
       " [0.0, 0.0, 3.0],\n",
       " [0.0, 0.0, 3.0],\n",
       " [0.0, 0.0, 3.0],\n",
       " [1.0, 2.0, 0.0],\n",
       " [0.0, 2.0, 0.0],\n",
       " [0.0, 2.0, 0.0],\n",
       " [0.0, 0.0, 3.0],\n",
       " [0.0, 0.0, 3.0],\n",
       " [1.0, 0.0, 0.0],\n",
       " [0.0, 0.0, 3.0],\n",
       " [0.0, 0.0, 3.0],\n",
       " [0.0, 0.0, 3.0],\n",
       " [0.0, 0.0, 3.0],\n",
       " [0.0, 0.0, 3.0],\n",
       " [1.0, 0.0, 0.0],\n",
       " [0.0, 0.0, 3.0],\n",
       " [1.0, 0.0, 0.0],\n",
       " [1.0, 0.0, 0.0],\n",
       " [1.0, 0.0, 3.0],\n",
       " [1.0, 0.0, 0.0],\n",
       " [1.0, 0.0, 0.0],\n",
       " [1.0, 0.0, 0.0],\n",
       " [1.0, 0.0, 0.0],\n",
       " [1.0, 0.0, 0.0],\n",
       " [0.0, 0.0, 3.0],\n",
       " [0.0, 0.0, 3.0],\n",
       " [1.0, 0.0, 0.0],\n",
       " [0.0, 0.0, 3.0],\n",
       " [1.0, 0.0, 0.0],\n",
       " [0.0, 0.0, 3.0],\n",
       " [1.0, 0.0, 0.0],\n",
       " [1.0, 0.0, 0.0],\n",
       " [1.0, 0.0, 3.0],\n",
       " [0.0, 0.0, 3.0],\n",
       " [0.0, 0.0, 3.0],\n",
       " [0.0, 0.0, 3.0],\n",
       " [1.0, 0.0, 0.0],\n",
       " [0.0, 0.0, 3.0],\n",
       " [0.0, 0.0, 3.0],\n",
       " [0.0, 0.0, 3.0],\n",
       " [0.0, 0.0, 3.0],\n",
       " [0.0, 2.0, 0.0],\n",
       " [0.0, 0.0, 3.0],\n",
       " [0.0, 0.0, 3.0],\n",
       " [1.0, 2.0, 0.0],\n",
       " [1.0, 0.0, 0.0],\n",
       " [0.0, 0.0, 3.0],\n",
       " [0.0, 0.0, 3.0],\n",
       " [0.0, 0.0, 3.0],\n",
       " [1.0, 0.0, 0.0],\n",
       " [1.0, 0.0, 0.0],\n",
       " [1.0, 0.0, 0.0],\n",
       " [1.0, 0.0, 3.0],\n",
       " [1.0, 2.0, 0.0],\n",
       " [0.0, 0.0, 3.0],\n",
       " [0.0, 2.0, 0.0],\n",
       " [0.0, 0.0, 3.0],\n",
       " [1.0, 0.0, 3.0],\n",
       " [0.0, 0.0, 3.0],\n",
       " [0.0, 0.0, 3.0],\n",
       " [0.0, 0.0, 3.0],\n",
       " [0.0, 0.0, 3.0],\n",
       " [0.0, 0.0, 3.0],\n",
       " [0.0, 0.0, 3.0],\n",
       " [1.0, 0.0, 0.0],\n",
       " [0.0, 0.0, 3.0],\n",
       " [0.0, 0.0, 3.0],\n",
       " [1.0, 0.0, 0.0],\n",
       " [1.0, 0.0, 0.0],\n",
       " [0.0, 0.0, 3.0],\n",
       " [0.0, 0.0, 3.0],\n",
       " [0.0, 0.0, 3.0],\n",
       " [0.0, 0.0, 3.0],\n",
       " [0.0, 0.0, 3.0],\n",
       " [0.0, 0.0, 3.0],\n",
       " [0.0, 0.0, 3.0],\n",
       " [0.0, 0.0, 3.0],\n",
       " [0.0, 0.0, 3.0],\n",
       " [0.0, 0.0, 3.0],\n",
       " [1.0, 0.0, 3.0],\n",
       " [0.0, 2.0, 0.0],\n",
       " [0.0, 0.0, 3.0],\n",
       " [1.0, 0.0, 0.0],\n",
       " [0.0, 0.0, 3.0],\n",
       " [1.0, 0.0, 0.0],\n",
       " [1.0, 0.0, 0.0],\n",
       " [0.0, 0.0, 3.0],\n",
       " [1.0, 0.0, 0.0],\n",
       " [0.0, 2.0, 0.0],\n",
       " [0.0, 0.0, 3.0],\n",
       " [0.0, 0.0, 3.0],\n",
       " [0.0, 2.0, 0.0],\n",
       " [0.0, 0.0, 3.0],\n",
       " [0.0, 2.0, 0.0],\n",
       " [1.0, 0.0, 0.0],\n",
       " [1.0, 2.0, 0.0],\n",
       " [0.0, 2.0, 0.0],\n",
       " [1.0, 0.0, 3.0],\n",
       " [1.0, 0.0, 0.0],\n",
       " [1.0, 0.0, 0.0],\n",
       " [1.0, 0.0, 0.0],\n",
       " [0.0, 0.0, 3.0],\n",
       " [0.0, 0.0, 3.0],\n",
       " [1.0, 0.0, 0.0],\n",
       " [1.0, 0.0, 0.0],\n",
       " [0.0, 0.0, 3.0],\n",
       " [0.0, 0.0, 3.0],\n",
       " [0.0, 0.0, 3.0],\n",
       " [0.0, 0.0, 3.0],\n",
       " [0.0, 0.0, 3.0],\n",
       " [0.0, 0.0, 3.0],\n",
       " [1.0, 0.0, 0.0],\n",
       " [1.0, 0.0, 0.0],\n",
       " [1.0, 0.0, 3.0],\n",
       " [0.0, 0.0, 3.0],\n",
       " [1.0, 2.0, 0.0],\n",
       " [0.0, 0.0, 3.0],\n",
       " [0.0, 2.0, 0.0],\n",
       " [0.0, 0.0, 3.0],\n",
       " [0.0, 0.0, 3.0],\n",
       " [0.0, 2.0, 0.0],\n",
       " [1.0, 0.0, 0.0],\n",
       " [0.0, 0.0, 3.0],\n",
       " [1.0, 0.0, 0.0],\n",
       " [1.0, 2.0, 0.0],\n",
       " [0.0, 0.0, 3.0],\n",
       " [0.0, 0.0, 3.0],\n",
       " [0.0, 0.0, 3.0],\n",
       " [1.0, 0.0, 3.0],\n",
       " [0.0, 0.0, 3.0],\n",
       " [0.0, 2.0, 0.0],\n",
       " [1.0, 0.0, 0.0],\n",
       " [1.0, 0.0, 0.0],\n",
       " [1.0, 0.0, 0.0],\n",
       " [1.0, 0.0, 0.0],\n",
       " [0.0, 0.0, 3.0],\n",
       " [1.0, 0.0, 0.0],\n",
       " [1.0, 0.0, 0.0],\n",
       " [0.0, 0.0, 3.0],\n",
       " [1.0, 0.0, 0.0],\n",
       " [1.0, 2.0, 0.0],\n",
       " [0.0, 0.0, 3.0],\n",
       " [0.0, 2.0, 0.0],\n",
       " [0.0, 0.0, 3.0],\n",
       " [0.0, 2.0, 0.0],\n",
       " [1.0, 0.0, 3.0],\n",
       " [0.0, 0.0, 3.0],\n",
       " [0.0, 0.0, 3.0],\n",
       " [0.0, 0.0, 3.0],\n",
       " [0.0, 0.0, 3.0],\n",
       " [1.0, 0.0, 3.0],\n",
       " [0.0, 0.0, 3.0],\n",
       " [0.0, 0.0, 3.0],\n",
       " [0.0, 0.0, 3.0],\n",
       " [0.0, 0.0, 3.0],\n",
       " [0.0, 0.0, 3.0],\n",
       " [0.0, 0.0, 3.0],\n",
       " [0.0, 0.0, 3.0],\n",
       " [0.0, 0.0, 3.0],\n",
       " [0.0, 0.0, 3.0],\n",
       " [0.0, 0.0, 3.0],\n",
       " [0.0, 0.0, 3.0],\n",
       " [0.0, 0.0, 3.0],\n",
       " [0.0, 0.0, 3.0],\n",
       " [0.0, 0.0, 3.0],\n",
       " [0.0, 0.0, 3.0],\n",
       " [0.0, 0.0, 3.0],\n",
       " [1.0, 0.0, 3.0],\n",
       " [0.0, 0.0, 3.0],\n",
       " [0.0, 0.0, 3.0],\n",
       " [0.0, 2.0, 0.0],\n",
       " [0.0, 0.0, 3.0],\n",
       " [0.0, 0.0, 3.0],\n",
       " [0.0, 0.0, 3.0],\n",
       " [1.0, 0.0, 0.0],\n",
       " [1.0, 0.0, 0.0],\n",
       " [0.0, 2.0, 0.0],\n",
       " [0.0, 0.0, 3.0],\n",
       " [0.0, 0.0, 3.0],\n",
       " [1.0, 0.0, 0.0],\n",
       " [0.0, 2.0, 0.0],\n",
       " [0.0, 0.0, 3.0],\n",
       " [0.0, 0.0, 3.0],\n",
       " [1.0, 0.0, 0.0],\n",
       " [0.0, 0.0, 3.0],\n",
       " [1.0, 0.0, 0.0],\n",
       " [0.0, 2.0, 0.0],\n",
       " [0.0, 0.0, 3.0],\n",
       " [0.0, 0.0, 3.0],\n",
       " [1.0, 0.0, 0.0],\n",
       " [0.0, 0.0, 3.0],\n",
       " [1.0, 0.0, 0.0],\n",
       " [1.0, 0.0, 0.0],\n",
       " [1.0, 0.0, 0.0],\n",
       " [0.0, 0.0, 3.0],\n",
       " [1.0, 0.0, 0.0],\n",
       " [1.0, 0.0, 3.0],\n",
       " [0.0, 2.0, 0.0],\n",
       " [0.0, 0.0, 3.0],\n",
       " [1.0, 0.0, 0.0],\n",
       " [0.0, 2.0, 0.0],\n",
       " [1.0, 0.0, 0.0],\n",
       " [1.0, 0.0, 3.0],\n",
       " [1.0, 0.0, 3.0],\n",
       " [0.0, 0.0, 3.0],\n",
       " [0.0, 2.0, 0.0],\n",
       " [0.0, 2.0, 0.0],\n",
       " [0.0, 2.0, 0.0],\n",
       " [1.0, 2.0, 0.0],\n",
       " [1.0, 0.0, 0.0],\n",
       " [0.0, 0.0, 3.0],\n",
       " [0.0, 0.0, 3.0],\n",
       " [0.0, 0.0, 3.0],\n",
       " [0.0, 0.0, 3.0],\n",
       " [1.0, 0.0, 0.0],\n",
       " [0.0, 0.0, 3.0],\n",
       " [1.0, 0.0, 0.0],\n",
       " [0.0, 2.0, 0.0],\n",
       " [1.0, 0.0, 0.0],\n",
       " [0.0, 0.0, 3.0],\n",
       " [1.0, 0.0, 3.0],\n",
       " [1.0, 0.0, 0.0],\n",
       " [1.0, 0.0, 3.0],\n",
       " [1.0, 0.0, 3.0],\n",
       " [0.0, 0.0, 3.0],\n",
       " [0.0, 0.0, 3.0],\n",
       " [0.0, 0.0, 3.0],\n",
       " [0.0, 0.0, 3.0],\n",
       " [0.0, 0.0, 3.0],\n",
       " [1.0, 0.0, 0.0],\n",
       " [0.0, 0.0, 3.0],\n",
       " [0.0, 0.0, 3.0],\n",
       " [0.0, 0.0, 3.0],\n",
       " [0.0, 0.0, 3.0],\n",
       " [1.0, 0.0, 0.0],\n",
       " [0.0, 0.0, 3.0],\n",
       " [1.0, 0.0, 0.0],\n",
       " [0.0, 2.0, 0.0],\n",
       " [1.0, 0.0, 0.0],\n",
       " [0.0, 2.0, 0.0],\n",
       " [0.0, 2.0, 0.0],\n",
       " [1.0, 0.0, 0.0],\n",
       " [0.0, 0.0, 3.0],\n",
       " [1.0, 0.0, 0.0],\n",
       " [0.0, 2.0, 0.0],\n",
       " [0.0, 0.0, 3.0],\n",
       " [0.0, 0.0, 3.0],\n",
       " [1.0, 0.0, 0.0],\n",
       " [0.0, 0.0, 3.0],\n",
       " [0.0, 2.0, 0.0],\n",
       " [1.0, 0.0, 0.0],\n",
       " [0.0, 0.0, 3.0],\n",
       " [0.0, 2.0, 0.0],\n",
       " [1.0, 0.0, 3.0],\n",
       " [0.0, 0.0, 3.0],\n",
       " [1.0, 0.0, 0.0],\n",
       " [0.0, 0.0, 3.0],\n",
       " [0.0, 2.0, 0.0],\n",
       " [1.0, 0.0, 0.0],\n",
       " [0.0, 0.0, 3.0],\n",
       " [1.0, 0.0, 0.0],\n",
       " [1.0, 0.0, 0.0],\n",
       " [0.0, 0.0, 3.0],\n",
       " [1.0, 0.0, 0.0],\n",
       " [0.0, 2.0, 0.0],\n",
       " [0.0, 0.0, 3.0],\n",
       " [0.0, 0.0, 3.0],\n",
       " [0.0, 0.0, 3.0],\n",
       " [0.0, 0.0, 3.0],\n",
       " [1.0, 0.0, 3.0],\n",
       " [1.0, 0.0, 0.0],\n",
       " [1.0, 0.0, 0.0],\n",
       " [0.0, 0.0, 3.0],\n",
       " [1.0, 0.0, 0.0],\n",
       " [0.0, 0.0, 3.0],\n",
       " [0.0, 0.0, 3.0],\n",
       " [0.0, 0.0, 3.0],\n",
       " [0.0, 0.0, 3.0],\n",
       " [0.0, 0.0, 3.0],\n",
       " [1.0, 0.0, 0.0],\n",
       " [0.0, 0.0, 3.0],\n",
       " [1.0, 0.0, 0.0],\n",
       " [0.0, 2.0, 0.0],\n",
       " [0.0, 0.0, 3.0],\n",
       " [0.0, 0.0, 3.0],\n",
       " [0.0, 0.0, 3.0],\n",
       " [0.0, 0.0, 3.0],\n",
       " [0.0, 0.0, 3.0],\n",
       " [0.0, 0.0, 3.0],\n",
       " [1.0, 0.0, 0.0],\n",
       " [1.0, 0.0, 0.0],\n",
       " [0.0, 0.0, 3.0],\n",
       " [0.0, 0.0, 3.0],\n",
       " [0.0, 0.0, 3.0],\n",
       " [0.0, 0.0, 3.0],\n",
       " [0.0, 0.0, 3.0],\n",
       " [0.0, 0.0, 3.0],\n",
       " [0.0, 0.0, 3.0],\n",
       " [0.0, 0.0, 3.0],\n",
       " [0.0, 0.0, 3.0],\n",
       " [0.0, 0.0, 3.0],\n",
       " [1.0, 2.0, 0.0],\n",
       " [1.0, 0.0, 0.0],\n",
       " [0.0, 0.0, 3.0],\n",
       " [0.0, 2.0, 0.0],\n",
       " [0.0, 0.0, 3.0],\n",
       " [1.0, 0.0, 0.0],\n",
       " [0.0, 0.0, 3.0],\n",
       " [0.0, 0.0, 3.0],\n",
       " [0.0, 2.0, 0.0],\n",
       " [1.0, 2.0, 0.0],\n",
       " [0.0, 0.0, 3.0],\n",
       " [0.0, 0.0, 3.0],\n",
       " [0.0, 0.0, 3.0],\n",
       " [1.0, 0.0, 0.0],\n",
       " [1.0, 0.0, 0.0],\n",
       " [0.0, 0.0, 3.0],\n",
       " [1.0, 0.0, 0.0],\n",
       " [1.0, 0.0, 0.0],\n",
       " [1.0, 0.0, 0.0],\n",
       " [1.0, 0.0, 0.0],\n",
       " [1.0, 2.0, 0.0],\n",
       " [0.0, 0.0, 3.0],\n",
       " [0.0, 0.0, 3.0],\n",
       " [0.0, 2.0, 0.0],\n",
       " [0.0, 0.0, 3.0],\n",
       " [0.0, 0.0, 3.0],\n",
       " [0.0, 2.0, 0.0],\n",
       " [1.0, 0.0, 3.0],\n",
       " [0.0, 2.0, 0.0],\n",
       " [0.0, 0.0, 3.0],\n",
       " [0.0, 0.0, 3.0],\n",
       " [1.0, 0.0, 0.0],\n",
       " [1.0, 0.0, 0.0],\n",
       " [1.0, 0.0, 0.0],\n",
       " [0.0, 0.0, 3.0],\n",
       " [0.0, 2.0, 0.0],\n",
       " [0.0, 0.0, 3.0],\n",
       " [0.0, 0.0, 3.0],\n",
       " [0.0, 0.0, 3.0],\n",
       " [1.0, 0.0, 0.0],\n",
       " [1.0, 0.0, 0.0],\n",
       " [0.0, 0.0, 3.0],\n",
       " [0.0, 0.0, 3.0],\n",
       " [0.0, 0.0, 3.0],\n",
       " [0.0, 0.0, 3.0],\n",
       " [0.0, 2.0, 0.0],\n",
       " [0.0, 0.0, 3.0],\n",
       " [1.0, 0.0, 3.0],\n",
       " [1.0, 2.0, 0.0],\n",
       " [1.0, 0.0, 0.0],\n",
       " [0.0, 0.0, 3.0],\n",
       " [0.0, 2.0, 0.0],\n",
       " [0.0, 2.0, 0.0],\n",
       " [0.0, 2.0, 0.0],\n",
       " [0.0, 0.0, 3.0],\n",
       " [0.0, 2.0, 0.0],\n",
       " [1.0, 0.0, 3.0],\n",
       " [1.0, 0.0, 3.0],\n",
       " [0.0, 0.0, 3.0],\n",
       " [0.0, 0.0, 3.0],\n",
       " [1.0, 0.0, 0.0],\n",
       " [1.0, 0.0, 0.0],\n",
       " [0.0, 0.0, 3.0],\n",
       " [0.0, 0.0, 3.0],\n",
       " [0.0, 0.0, 3.0],\n",
       " [0.0, 2.0, 0.0],\n",
       " [1.0, 0.0, 0.0],\n",
       " [1.0, 0.0, 0.0],\n",
       " [1.0, 0.0, 0.0],\n",
       " [1.0, 0.0, 0.0],\n",
       " [1.0, 0.0, 0.0],\n",
       " [0.0, 0.0, 3.0],\n",
       " [1.0, 0.0, 0.0],\n",
       " [0.0, 0.0, 3.0],\n",
       " [1.0, 0.0, 0.0],\n",
       " [0.0, 2.0, 0.0],\n",
       " [0.0, 0.0, 3.0],\n",
       " [0.0, 0.0, 3.0],\n",
       " [0.0, 0.0, 3.0],\n",
       " [0.0, 0.0, 3.0],\n",
       " [0.0, 0.0, 3.0],\n",
       " [0.0, 0.0, 3.0],\n",
       " [0.0, 0.0, 3.0],\n",
       " [0.0, 2.0, 0.0],\n",
       " [0.0, 0.0, 3.0],\n",
       " [0.0, 0.0, 3.0],\n",
       " [0.0, 2.0, 0.0],\n",
       " [0.0, 0.0, 3.0],\n",
       " [1.0, 2.0, 0.0],\n",
       " [0.0, 0.0, 3.0],\n",
       " [0.0, 0.0, 3.0],\n",
       " [0.0, 0.0, 3.0],\n",
       " [0.0, 0.0, 3.0],\n",
       " [0.0, 0.0, 3.0],\n",
       " [0.0, 0.0, 3.0],\n",
       " [1.0, 0.0, 3.0],\n",
       " [1.0, 0.0, 0.0],\n",
       " [0.0, 0.0, 3.0],\n",
       " [0.0, 2.0, 0.0],\n",
       " [0.0, 0.0, 3.0],\n",
       " [0.0, 2.0, 0.0],\n",
       " [0.0, 0.0, 3.0],\n",
       " [0.0, 0.0, 3.0],\n",
       " [0.0, 0.0, 3.0],\n",
       " [0.0, 0.0, 3.0],\n",
       " [0.0, 2.0, 0.0],\n",
       " [0.0, 2.0, 0.0],\n",
       " [1.0, 0.0, 3.0],\n",
       " [1.0, 0.0, 0.0],\n",
       " [0.0, 0.0, 3.0],\n",
       " [0.0, 0.0, 3.0],\n",
       " [0.0, 0.0, 3.0],\n",
       " [0.0, 2.0, 0.0],\n",
       " [0.0, 0.0, 3.0],\n",
       " [1.0, 0.0, 3.0],\n",
       " [0.0, 0.0, 3.0],\n",
       " [0.0, 2.0, 0.0],\n",
       " [0.0, 2.0, 0.0],\n",
       " [1.0, 0.0, 0.0],\n",
       " [1.0, 0.0, 0.0],\n",
       " [0.0, 2.0, 0.0],\n",
       " [1.0, 2.0, 0.0],\n",
       " [1.0, 0.0, 0.0]]"
      ]
     },
     "execution_count": 26,
     "metadata": {},
     "output_type": "execute_result"
    }
   ],
   "source": [
    "alpha = getAlphaCut(final_weights, threshold=0.33)\n",
    "alpha.tolist()"
   ]
  },
  {
   "cell_type": "markdown",
   "id": "6959e27f",
   "metadata": {},
   "source": [
    "# Algorithms : "
   ]
  },
  {
   "cell_type": "markdown",
   "id": "4226d8a4",
   "metadata": {},
   "source": [
    "## Data Preprocessing "
   ]
  },
  {
   "cell_type": "code",
   "execution_count": 27,
   "id": "1d9ad262",
   "metadata": {},
   "outputs": [],
   "source": [
    "X_train = pd.read_csv('train.csv')\n",
    "X_test = pd.read_csv('test.csv')"
   ]
  },
  {
   "cell_type": "code",
   "execution_count": 28,
   "id": "c4922a72",
   "metadata": {},
   "outputs": [
    {
     "data": {
      "text/plain": [
       "(800, 22)"
      ]
     },
     "execution_count": 28,
     "metadata": {},
     "output_type": "execute_result"
    }
   ],
   "source": [
    "X_train.shape"
   ]
  },
  {
   "cell_type": "code",
   "execution_count": 29,
   "id": "f5efe026",
   "metadata": {},
   "outputs": [
    {
     "data": {
      "text/html": [
       "<div>\n",
       "<style scoped>\n",
       "    .dataframe tbody tr th:only-of-type {\n",
       "        vertical-align: middle;\n",
       "    }\n",
       "\n",
       "    .dataframe tbody tr th {\n",
       "        vertical-align: top;\n",
       "    }\n",
       "\n",
       "    .dataframe thead th {\n",
       "        text-align: right;\n",
       "    }\n",
       "</style>\n",
       "<table border=\"1\" class=\"dataframe\">\n",
       "  <thead>\n",
       "    <tr style=\"text-align: right;\">\n",
       "      <th></th>\n",
       "      <th>Id</th>\n",
       "      <th>laufkont</th>\n",
       "      <th>laufzeit</th>\n",
       "      <th>moral</th>\n",
       "      <th>verw</th>\n",
       "      <th>hoehe</th>\n",
       "      <th>sparkont</th>\n",
       "      <th>beszeit</th>\n",
       "      <th>rate</th>\n",
       "      <th>famges</th>\n",
       "      <th>...</th>\n",
       "      <th>verm</th>\n",
       "      <th>alter</th>\n",
       "      <th>weitkred</th>\n",
       "      <th>wohn</th>\n",
       "      <th>bishkred</th>\n",
       "      <th>beruf</th>\n",
       "      <th>pers</th>\n",
       "      <th>telef</th>\n",
       "      <th>gastarb</th>\n",
       "      <th>kredit</th>\n",
       "    </tr>\n",
       "  </thead>\n",
       "  <tbody>\n",
       "    <tr>\n",
       "      <th>0</th>\n",
       "      <td>0</td>\n",
       "      <td>1</td>\n",
       "      <td>18</td>\n",
       "      <td>4</td>\n",
       "      <td>2</td>\n",
       "      <td>1049</td>\n",
       "      <td>1</td>\n",
       "      <td>2</td>\n",
       "      <td>4</td>\n",
       "      <td>2</td>\n",
       "      <td>...</td>\n",
       "      <td>2</td>\n",
       "      <td>21</td>\n",
       "      <td>3</td>\n",
       "      <td>1</td>\n",
       "      <td>1</td>\n",
       "      <td>3</td>\n",
       "      <td>2</td>\n",
       "      <td>1</td>\n",
       "      <td>2</td>\n",
       "      <td>1</td>\n",
       "    </tr>\n",
       "    <tr>\n",
       "      <th>1</th>\n",
       "      <td>1</td>\n",
       "      <td>1</td>\n",
       "      <td>9</td>\n",
       "      <td>4</td>\n",
       "      <td>0</td>\n",
       "      <td>2799</td>\n",
       "      <td>1</td>\n",
       "      <td>3</td>\n",
       "      <td>2</td>\n",
       "      <td>3</td>\n",
       "      <td>...</td>\n",
       "      <td>1</td>\n",
       "      <td>36</td>\n",
       "      <td>3</td>\n",
       "      <td>1</td>\n",
       "      <td>2</td>\n",
       "      <td>3</td>\n",
       "      <td>1</td>\n",
       "      <td>1</td>\n",
       "      <td>2</td>\n",
       "      <td>1</td>\n",
       "    </tr>\n",
       "    <tr>\n",
       "      <th>2</th>\n",
       "      <td>2</td>\n",
       "      <td>2</td>\n",
       "      <td>12</td>\n",
       "      <td>2</td>\n",
       "      <td>9</td>\n",
       "      <td>841</td>\n",
       "      <td>2</td>\n",
       "      <td>4</td>\n",
       "      <td>2</td>\n",
       "      <td>2</td>\n",
       "      <td>...</td>\n",
       "      <td>1</td>\n",
       "      <td>23</td>\n",
       "      <td>3</td>\n",
       "      <td>1</td>\n",
       "      <td>1</td>\n",
       "      <td>2</td>\n",
       "      <td>2</td>\n",
       "      <td>1</td>\n",
       "      <td>2</td>\n",
       "      <td>1</td>\n",
       "    </tr>\n",
       "    <tr>\n",
       "      <th>3</th>\n",
       "      <td>3</td>\n",
       "      <td>1</td>\n",
       "      <td>12</td>\n",
       "      <td>4</td>\n",
       "      <td>0</td>\n",
       "      <td>2122</td>\n",
       "      <td>1</td>\n",
       "      <td>3</td>\n",
       "      <td>3</td>\n",
       "      <td>3</td>\n",
       "      <td>...</td>\n",
       "      <td>1</td>\n",
       "      <td>39</td>\n",
       "      <td>3</td>\n",
       "      <td>1</td>\n",
       "      <td>2</td>\n",
       "      <td>2</td>\n",
       "      <td>1</td>\n",
       "      <td>1</td>\n",
       "      <td>1</td>\n",
       "      <td>1</td>\n",
       "    </tr>\n",
       "    <tr>\n",
       "      <th>4</th>\n",
       "      <td>5</td>\n",
       "      <td>1</td>\n",
       "      <td>10</td>\n",
       "      <td>4</td>\n",
       "      <td>0</td>\n",
       "      <td>2241</td>\n",
       "      <td>1</td>\n",
       "      <td>2</td>\n",
       "      <td>1</td>\n",
       "      <td>3</td>\n",
       "      <td>...</td>\n",
       "      <td>1</td>\n",
       "      <td>48</td>\n",
       "      <td>3</td>\n",
       "      <td>1</td>\n",
       "      <td>2</td>\n",
       "      <td>2</td>\n",
       "      <td>1</td>\n",
       "      <td>1</td>\n",
       "      <td>1</td>\n",
       "      <td>1</td>\n",
       "    </tr>\n",
       "  </tbody>\n",
       "</table>\n",
       "<p>5 rows × 22 columns</p>\n",
       "</div>"
      ],
      "text/plain": [
       "   Id  laufkont  laufzeit  moral  verw  hoehe  sparkont  beszeit  rate  \\\n",
       "0   0         1        18      4     2   1049         1        2     4   \n",
       "1   1         1         9      4     0   2799         1        3     2   \n",
       "2   2         2        12      2     9    841         2        4     2   \n",
       "3   3         1        12      4     0   2122         1        3     3   \n",
       "4   5         1        10      4     0   2241         1        2     1   \n",
       "\n",
       "   famges  ...  verm  alter  weitkred  wohn  bishkred  beruf  pers  telef  \\\n",
       "0       2  ...     2     21         3     1         1      3     2      1   \n",
       "1       3  ...     1     36         3     1         2      3     1      1   \n",
       "2       2  ...     1     23         3     1         1      2     2      1   \n",
       "3       3  ...     1     39         3     1         2      2     1      1   \n",
       "4       3  ...     1     48         3     1         2      2     1      1   \n",
       "\n",
       "   gastarb  kredit  \n",
       "0        2       1  \n",
       "1        2       1  \n",
       "2        2       1  \n",
       "3        1       1  \n",
       "4        1       1  \n",
       "\n",
       "[5 rows x 22 columns]"
      ]
     },
     "execution_count": 29,
     "metadata": {},
     "output_type": "execute_result"
    }
   ],
   "source": [
    "X_train.head()"
   ]
  },
  {
   "cell_type": "code",
   "execution_count": 30,
   "id": "78db17eb",
   "metadata": {},
   "outputs": [
    {
     "data": {
      "text/html": [
       "<div>\n",
       "<style scoped>\n",
       "    .dataframe tbody tr th:only-of-type {\n",
       "        vertical-align: middle;\n",
       "    }\n",
       "\n",
       "    .dataframe tbody tr th {\n",
       "        vertical-align: top;\n",
       "    }\n",
       "\n",
       "    .dataframe thead th {\n",
       "        text-align: right;\n",
       "    }\n",
       "</style>\n",
       "<table border=\"1\" class=\"dataframe\">\n",
       "  <thead>\n",
       "    <tr style=\"text-align: right;\">\n",
       "      <th></th>\n",
       "      <th>Id</th>\n",
       "      <th>laufkont</th>\n",
       "      <th>laufzeit</th>\n",
       "      <th>moral</th>\n",
       "      <th>verw</th>\n",
       "      <th>hoehe</th>\n",
       "      <th>sparkont</th>\n",
       "      <th>beszeit</th>\n",
       "      <th>rate</th>\n",
       "      <th>famges</th>\n",
       "      <th>...</th>\n",
       "      <th>verm</th>\n",
       "      <th>alter</th>\n",
       "      <th>weitkred</th>\n",
       "      <th>wohn</th>\n",
       "      <th>bishkred</th>\n",
       "      <th>beruf</th>\n",
       "      <th>pers</th>\n",
       "      <th>telef</th>\n",
       "      <th>gastarb</th>\n",
       "      <th>kredit</th>\n",
       "    </tr>\n",
       "  </thead>\n",
       "  <tbody>\n",
       "    <tr>\n",
       "      <th>count</th>\n",
       "      <td>800.000000</td>\n",
       "      <td>800.000000</td>\n",
       "      <td>800.000000</td>\n",
       "      <td>800.000000</td>\n",
       "      <td>800.000000</td>\n",
       "      <td>800.000000</td>\n",
       "      <td>800.000000</td>\n",
       "      <td>800.00000</td>\n",
       "      <td>800.000000</td>\n",
       "      <td>800.000000</td>\n",
       "      <td>...</td>\n",
       "      <td>800.000000</td>\n",
       "      <td>800.000000</td>\n",
       "      <td>800.000000</td>\n",
       "      <td>800.000000</td>\n",
       "      <td>800.000000</td>\n",
       "      <td>800.000000</td>\n",
       "      <td>800.000000</td>\n",
       "      <td>800.000000</td>\n",
       "      <td>800.000000</td>\n",
       "      <td>800.000000</td>\n",
       "    </tr>\n",
       "    <tr>\n",
       "      <th>mean</th>\n",
       "      <td>478.101250</td>\n",
       "      <td>2.648750</td>\n",
       "      <td>20.496250</td>\n",
       "      <td>2.582500</td>\n",
       "      <td>2.785000</td>\n",
       "      <td>3210.290000</td>\n",
       "      <td>2.143750</td>\n",
       "      <td>3.39500</td>\n",
       "      <td>2.952500</td>\n",
       "      <td>2.687500</td>\n",
       "      <td>...</td>\n",
       "      <td>2.353750</td>\n",
       "      <td>35.542500</td>\n",
       "      <td>2.673750</td>\n",
       "      <td>1.941250</td>\n",
       "      <td>1.420000</td>\n",
       "      <td>2.901250</td>\n",
       "      <td>1.845000</td>\n",
       "      <td>1.398750</td>\n",
       "      <td>1.957500</td>\n",
       "      <td>0.750000</td>\n",
       "    </tr>\n",
       "    <tr>\n",
       "      <th>std</th>\n",
       "      <td>278.883661</td>\n",
       "      <td>1.250931</td>\n",
       "      <td>12.006881</td>\n",
       "      <td>1.099866</td>\n",
       "      <td>2.680533</td>\n",
       "      <td>2792.840814</td>\n",
       "      <td>1.589416</td>\n",
       "      <td>1.22407</td>\n",
       "      <td>1.134395</td>\n",
       "      <td>0.696743</td>\n",
       "      <td>...</td>\n",
       "      <td>1.057122</td>\n",
       "      <td>11.175724</td>\n",
       "      <td>0.709182</td>\n",
       "      <td>0.527396</td>\n",
       "      <td>0.586541</td>\n",
       "      <td>0.661094</td>\n",
       "      <td>0.362131</td>\n",
       "      <td>0.489947</td>\n",
       "      <td>0.201853</td>\n",
       "      <td>0.433284</td>\n",
       "    </tr>\n",
       "    <tr>\n",
       "      <th>min</th>\n",
       "      <td>0.000000</td>\n",
       "      <td>1.000000</td>\n",
       "      <td>4.000000</td>\n",
       "      <td>0.000000</td>\n",
       "      <td>0.000000</td>\n",
       "      <td>250.000000</td>\n",
       "      <td>1.000000</td>\n",
       "      <td>1.00000</td>\n",
       "      <td>1.000000</td>\n",
       "      <td>1.000000</td>\n",
       "      <td>...</td>\n",
       "      <td>1.000000</td>\n",
       "      <td>19.000000</td>\n",
       "      <td>1.000000</td>\n",
       "      <td>1.000000</td>\n",
       "      <td>1.000000</td>\n",
       "      <td>1.000000</td>\n",
       "      <td>1.000000</td>\n",
       "      <td>1.000000</td>\n",
       "      <td>1.000000</td>\n",
       "      <td>0.000000</td>\n",
       "    </tr>\n",
       "    <tr>\n",
       "      <th>25%</th>\n",
       "      <td>238.750000</td>\n",
       "      <td>1.750000</td>\n",
       "      <td>12.000000</td>\n",
       "      <td>2.000000</td>\n",
       "      <td>1.000000</td>\n",
       "      <td>1364.000000</td>\n",
       "      <td>1.000000</td>\n",
       "      <td>3.00000</td>\n",
       "      <td>2.000000</td>\n",
       "      <td>2.000000</td>\n",
       "      <td>...</td>\n",
       "      <td>1.000000</td>\n",
       "      <td>27.000000</td>\n",
       "      <td>3.000000</td>\n",
       "      <td>2.000000</td>\n",
       "      <td>1.000000</td>\n",
       "      <td>3.000000</td>\n",
       "      <td>2.000000</td>\n",
       "      <td>1.000000</td>\n",
       "      <td>2.000000</td>\n",
       "      <td>0.750000</td>\n",
       "    </tr>\n",
       "    <tr>\n",
       "      <th>50%</th>\n",
       "      <td>472.000000</td>\n",
       "      <td>2.000000</td>\n",
       "      <td>18.000000</td>\n",
       "      <td>2.000000</td>\n",
       "      <td>2.000000</td>\n",
       "      <td>2264.000000</td>\n",
       "      <td>1.000000</td>\n",
       "      <td>3.00000</td>\n",
       "      <td>3.000000</td>\n",
       "      <td>3.000000</td>\n",
       "      <td>...</td>\n",
       "      <td>2.000000</td>\n",
       "      <td>33.000000</td>\n",
       "      <td>3.000000</td>\n",
       "      <td>2.000000</td>\n",
       "      <td>1.000000</td>\n",
       "      <td>3.000000</td>\n",
       "      <td>2.000000</td>\n",
       "      <td>1.000000</td>\n",
       "      <td>2.000000</td>\n",
       "      <td>1.000000</td>\n",
       "    </tr>\n",
       "    <tr>\n",
       "      <th>75%</th>\n",
       "      <td>707.250000</td>\n",
       "      <td>4.000000</td>\n",
       "      <td>24.000000</td>\n",
       "      <td>4.000000</td>\n",
       "      <td>3.000000</td>\n",
       "      <td>3907.250000</td>\n",
       "      <td>3.000000</td>\n",
       "      <td>5.00000</td>\n",
       "      <td>4.000000</td>\n",
       "      <td>3.000000</td>\n",
       "      <td>...</td>\n",
       "      <td>3.000000</td>\n",
       "      <td>42.000000</td>\n",
       "      <td>3.000000</td>\n",
       "      <td>2.000000</td>\n",
       "      <td>2.000000</td>\n",
       "      <td>3.000000</td>\n",
       "      <td>2.000000</td>\n",
       "      <td>2.000000</td>\n",
       "      <td>2.000000</td>\n",
       "      <td>1.000000</td>\n",
       "    </tr>\n",
       "    <tr>\n",
       "      <th>max</th>\n",
       "      <td>999.000000</td>\n",
       "      <td>4.000000</td>\n",
       "      <td>72.000000</td>\n",
       "      <td>4.000000</td>\n",
       "      <td>10.000000</td>\n",
       "      <td>18424.000000</td>\n",
       "      <td>5.000000</td>\n",
       "      <td>5.00000</td>\n",
       "      <td>4.000000</td>\n",
       "      <td>4.000000</td>\n",
       "      <td>...</td>\n",
       "      <td>4.000000</td>\n",
       "      <td>75.000000</td>\n",
       "      <td>3.000000</td>\n",
       "      <td>3.000000</td>\n",
       "      <td>4.000000</td>\n",
       "      <td>4.000000</td>\n",
       "      <td>2.000000</td>\n",
       "      <td>2.000000</td>\n",
       "      <td>2.000000</td>\n",
       "      <td>1.000000</td>\n",
       "    </tr>\n",
       "  </tbody>\n",
       "</table>\n",
       "<p>8 rows × 22 columns</p>\n",
       "</div>"
      ],
      "text/plain": [
       "               Id    laufkont    laufzeit       moral        verw  \\\n",
       "count  800.000000  800.000000  800.000000  800.000000  800.000000   \n",
       "mean   478.101250    2.648750   20.496250    2.582500    2.785000   \n",
       "std    278.883661    1.250931   12.006881    1.099866    2.680533   \n",
       "min      0.000000    1.000000    4.000000    0.000000    0.000000   \n",
       "25%    238.750000    1.750000   12.000000    2.000000    1.000000   \n",
       "50%    472.000000    2.000000   18.000000    2.000000    2.000000   \n",
       "75%    707.250000    4.000000   24.000000    4.000000    3.000000   \n",
       "max    999.000000    4.000000   72.000000    4.000000   10.000000   \n",
       "\n",
       "              hoehe    sparkont    beszeit        rate      famges  ...  \\\n",
       "count    800.000000  800.000000  800.00000  800.000000  800.000000  ...   \n",
       "mean    3210.290000    2.143750    3.39500    2.952500    2.687500  ...   \n",
       "std     2792.840814    1.589416    1.22407    1.134395    0.696743  ...   \n",
       "min      250.000000    1.000000    1.00000    1.000000    1.000000  ...   \n",
       "25%     1364.000000    1.000000    3.00000    2.000000    2.000000  ...   \n",
       "50%     2264.000000    1.000000    3.00000    3.000000    3.000000  ...   \n",
       "75%     3907.250000    3.000000    5.00000    4.000000    3.000000  ...   \n",
       "max    18424.000000    5.000000    5.00000    4.000000    4.000000  ...   \n",
       "\n",
       "             verm       alter    weitkred        wohn    bishkred       beruf  \\\n",
       "count  800.000000  800.000000  800.000000  800.000000  800.000000  800.000000   \n",
       "mean     2.353750   35.542500    2.673750    1.941250    1.420000    2.901250   \n",
       "std      1.057122   11.175724    0.709182    0.527396    0.586541    0.661094   \n",
       "min      1.000000   19.000000    1.000000    1.000000    1.000000    1.000000   \n",
       "25%      1.000000   27.000000    3.000000    2.000000    1.000000    3.000000   \n",
       "50%      2.000000   33.000000    3.000000    2.000000    1.000000    3.000000   \n",
       "75%      3.000000   42.000000    3.000000    2.000000    2.000000    3.000000   \n",
       "max      4.000000   75.000000    3.000000    3.000000    4.000000    4.000000   \n",
       "\n",
       "             pers       telef     gastarb      kredit  \n",
       "count  800.000000  800.000000  800.000000  800.000000  \n",
       "mean     1.845000    1.398750    1.957500    0.750000  \n",
       "std      0.362131    0.489947    0.201853    0.433284  \n",
       "min      1.000000    1.000000    1.000000    0.000000  \n",
       "25%      2.000000    1.000000    2.000000    0.750000  \n",
       "50%      2.000000    1.000000    2.000000    1.000000  \n",
       "75%      2.000000    2.000000    2.000000    1.000000  \n",
       "max      2.000000    2.000000    2.000000    1.000000  \n",
       "\n",
       "[8 rows x 22 columns]"
      ]
     },
     "execution_count": 30,
     "metadata": {},
     "output_type": "execute_result"
    }
   ],
   "source": [
    "X_train.describe()"
   ]
  },
  {
   "cell_type": "code",
   "execution_count": 31,
   "id": "e12a7228",
   "metadata": {},
   "outputs": [
    {
     "name": "stdout",
     "output_type": "stream",
     "text": [
      "<class 'pandas.core.frame.DataFrame'>\n",
      "RangeIndex: 800 entries, 0 to 799\n",
      "Data columns (total 22 columns):\n",
      " #   Column    Non-Null Count  Dtype\n",
      "---  ------    --------------  -----\n",
      " 0   Id        800 non-null    int64\n",
      " 1   laufkont  800 non-null    int64\n",
      " 2   laufzeit  800 non-null    int64\n",
      " 3   moral     800 non-null    int64\n",
      " 4   verw      800 non-null    int64\n",
      " 5   hoehe     800 non-null    int64\n",
      " 6   sparkont  800 non-null    int64\n",
      " 7   beszeit   800 non-null    int64\n",
      " 8   rate      800 non-null    int64\n",
      " 9   famges    800 non-null    int64\n",
      " 10  buerge    800 non-null    int64\n",
      " 11  wohnzeit  800 non-null    int64\n",
      " 12  verm      800 non-null    int64\n",
      " 13  alter     800 non-null    int64\n",
      " 14  weitkred  800 non-null    int64\n",
      " 15  wohn      800 non-null    int64\n",
      " 16  bishkred  800 non-null    int64\n",
      " 17  beruf     800 non-null    int64\n",
      " 18  pers      800 non-null    int64\n",
      " 19  telef     800 non-null    int64\n",
      " 20  gastarb   800 non-null    int64\n",
      " 21  kredit    800 non-null    int64\n",
      "dtypes: int64(22)\n",
      "memory usage: 137.6 KB\n"
     ]
    }
   ],
   "source": [
    "X_train.info()"
   ]
  },
  {
   "cell_type": "code",
   "execution_count": 32,
   "id": "f485c4ac",
   "metadata": {},
   "outputs": [
    {
     "data": {
      "text/plain": [
       "Id          0\n",
       "laufkont    0\n",
       "laufzeit    0\n",
       "moral       0\n",
       "verw        0\n",
       "hoehe       0\n",
       "sparkont    0\n",
       "beszeit     0\n",
       "rate        0\n",
       "famges      0\n",
       "buerge      0\n",
       "wohnzeit    0\n",
       "verm        0\n",
       "alter       0\n",
       "weitkred    0\n",
       "wohn        0\n",
       "bishkred    0\n",
       "beruf       0\n",
       "pers        0\n",
       "telef       0\n",
       "gastarb     0\n",
       "kredit      0\n",
       "dtype: int64"
      ]
     },
     "execution_count": 32,
     "metadata": {},
     "output_type": "execute_result"
    }
   ],
   "source": [
    "X_train.isnull().sum()"
   ]
  },
  {
   "cell_type": "code",
   "execution_count": 33,
   "id": "d7746a0b",
   "metadata": {
    "scrolled": true
   },
   "outputs": [
    {
     "data": {
      "text/plain": [
       "(200, 21)"
      ]
     },
     "execution_count": 33,
     "metadata": {},
     "output_type": "execute_result"
    }
   ],
   "source": [
    "X_test.shape"
   ]
  },
  {
   "cell_type": "code",
   "execution_count": 34,
   "id": "8584d400",
   "metadata": {
    "scrolled": true
   },
   "outputs": [
    {
     "data": {
      "text/html": [
       "<div>\n",
       "<style scoped>\n",
       "    .dataframe tbody tr th:only-of-type {\n",
       "        vertical-align: middle;\n",
       "    }\n",
       "\n",
       "    .dataframe tbody tr th {\n",
       "        vertical-align: top;\n",
       "    }\n",
       "\n",
       "    .dataframe thead th {\n",
       "        text-align: right;\n",
       "    }\n",
       "</style>\n",
       "<table border=\"1\" class=\"dataframe\">\n",
       "  <thead>\n",
       "    <tr style=\"text-align: right;\">\n",
       "      <th></th>\n",
       "      <th>Id</th>\n",
       "      <th>laufkont</th>\n",
       "      <th>laufzeit</th>\n",
       "      <th>moral</th>\n",
       "      <th>verw</th>\n",
       "      <th>hoehe</th>\n",
       "      <th>sparkont</th>\n",
       "      <th>beszeit</th>\n",
       "      <th>rate</th>\n",
       "      <th>famges</th>\n",
       "      <th>...</th>\n",
       "      <th>wohnzeit</th>\n",
       "      <th>verm</th>\n",
       "      <th>alter</th>\n",
       "      <th>weitkred</th>\n",
       "      <th>wohn</th>\n",
       "      <th>bishkred</th>\n",
       "      <th>beruf</th>\n",
       "      <th>pers</th>\n",
       "      <th>telef</th>\n",
       "      <th>gastarb</th>\n",
       "    </tr>\n",
       "  </thead>\n",
       "  <tbody>\n",
       "    <tr>\n",
       "      <th>0</th>\n",
       "      <td>4</td>\n",
       "      <td>1</td>\n",
       "      <td>12</td>\n",
       "      <td>4</td>\n",
       "      <td>0</td>\n",
       "      <td>2171</td>\n",
       "      <td>1</td>\n",
       "      <td>3</td>\n",
       "      <td>4</td>\n",
       "      <td>3</td>\n",
       "      <td>...</td>\n",
       "      <td>4</td>\n",
       "      <td>2</td>\n",
       "      <td>38</td>\n",
       "      <td>1</td>\n",
       "      <td>2</td>\n",
       "      <td>2</td>\n",
       "      <td>2</td>\n",
       "      <td>2</td>\n",
       "      <td>1</td>\n",
       "      <td>1</td>\n",
       "    </tr>\n",
       "    <tr>\n",
       "      <th>1</th>\n",
       "      <td>14</td>\n",
       "      <td>1</td>\n",
       "      <td>18</td>\n",
       "      <td>2</td>\n",
       "      <td>3</td>\n",
       "      <td>1936</td>\n",
       "      <td>5</td>\n",
       "      <td>4</td>\n",
       "      <td>2</td>\n",
       "      <td>4</td>\n",
       "      <td>...</td>\n",
       "      <td>4</td>\n",
       "      <td>3</td>\n",
       "      <td>23</td>\n",
       "      <td>3</td>\n",
       "      <td>1</td>\n",
       "      <td>2</td>\n",
       "      <td>2</td>\n",
       "      <td>2</td>\n",
       "      <td>1</td>\n",
       "      <td>2</td>\n",
       "    </tr>\n",
       "    <tr>\n",
       "      <th>2</th>\n",
       "      <td>18</td>\n",
       "      <td>2</td>\n",
       "      <td>36</td>\n",
       "      <td>4</td>\n",
       "      <td>3</td>\n",
       "      <td>2337</td>\n",
       "      <td>1</td>\n",
       "      <td>5</td>\n",
       "      <td>4</td>\n",
       "      <td>3</td>\n",
       "      <td>...</td>\n",
       "      <td>4</td>\n",
       "      <td>1</td>\n",
       "      <td>36</td>\n",
       "      <td>3</td>\n",
       "      <td>2</td>\n",
       "      <td>1</td>\n",
       "      <td>3</td>\n",
       "      <td>2</td>\n",
       "      <td>1</td>\n",
       "      <td>2</td>\n",
       "    </tr>\n",
       "    <tr>\n",
       "      <th>3</th>\n",
       "      <td>20</td>\n",
       "      <td>1</td>\n",
       "      <td>6</td>\n",
       "      <td>4</td>\n",
       "      <td>0</td>\n",
       "      <td>3676</td>\n",
       "      <td>1</td>\n",
       "      <td>3</td>\n",
       "      <td>1</td>\n",
       "      <td>3</td>\n",
       "      <td>...</td>\n",
       "      <td>3</td>\n",
       "      <td>1</td>\n",
       "      <td>37</td>\n",
       "      <td>3</td>\n",
       "      <td>1</td>\n",
       "      <td>3</td>\n",
       "      <td>3</td>\n",
       "      <td>1</td>\n",
       "      <td>1</td>\n",
       "      <td>2</td>\n",
       "    </tr>\n",
       "    <tr>\n",
       "      <th>4</th>\n",
       "      <td>22</td>\n",
       "      <td>2</td>\n",
       "      <td>36</td>\n",
       "      <td>2</td>\n",
       "      <td>5</td>\n",
       "      <td>2384</td>\n",
       "      <td>1</td>\n",
       "      <td>2</td>\n",
       "      <td>4</td>\n",
       "      <td>3</td>\n",
       "      <td>...</td>\n",
       "      <td>1</td>\n",
       "      <td>4</td>\n",
       "      <td>33</td>\n",
       "      <td>3</td>\n",
       "      <td>1</td>\n",
       "      <td>1</td>\n",
       "      <td>2</td>\n",
       "      <td>2</td>\n",
       "      <td>1</td>\n",
       "      <td>2</td>\n",
       "    </tr>\n",
       "  </tbody>\n",
       "</table>\n",
       "<p>5 rows × 21 columns</p>\n",
       "</div>"
      ],
      "text/plain": [
       "   Id  laufkont  laufzeit  moral  verw  hoehe  sparkont  beszeit  rate  \\\n",
       "0   4         1        12      4     0   2171         1        3     4   \n",
       "1  14         1        18      2     3   1936         5        4     2   \n",
       "2  18         2        36      4     3   2337         1        5     4   \n",
       "3  20         1         6      4     0   3676         1        3     1   \n",
       "4  22         2        36      2     5   2384         1        2     4   \n",
       "\n",
       "   famges  ...  wohnzeit  verm  alter  weitkred  wohn  bishkred  beruf  pers  \\\n",
       "0       3  ...         4     2     38         1     2         2      2     2   \n",
       "1       4  ...         4     3     23         3     1         2      2     2   \n",
       "2       3  ...         4     1     36         3     2         1      3     2   \n",
       "3       3  ...         3     1     37         3     1         3      3     1   \n",
       "4       3  ...         1     4     33         3     1         1      2     2   \n",
       "\n",
       "   telef  gastarb  \n",
       "0      1        1  \n",
       "1      1        2  \n",
       "2      1        2  \n",
       "3      1        2  \n",
       "4      1        2  \n",
       "\n",
       "[5 rows x 21 columns]"
      ]
     },
     "execution_count": 34,
     "metadata": {},
     "output_type": "execute_result"
    }
   ],
   "source": [
    "X_test.head()"
   ]
  },
  {
   "cell_type": "code",
   "execution_count": 35,
   "id": "af474170",
   "metadata": {},
   "outputs": [
    {
     "data": {
      "text/html": [
       "<div>\n",
       "<style scoped>\n",
       "    .dataframe tbody tr th:only-of-type {\n",
       "        vertical-align: middle;\n",
       "    }\n",
       "\n",
       "    .dataframe tbody tr th {\n",
       "        vertical-align: top;\n",
       "    }\n",
       "\n",
       "    .dataframe thead th {\n",
       "        text-align: right;\n",
       "    }\n",
       "</style>\n",
       "<table border=\"1\" class=\"dataframe\">\n",
       "  <thead>\n",
       "    <tr style=\"text-align: right;\">\n",
       "      <th></th>\n",
       "      <th>Id</th>\n",
       "      <th>laufkont</th>\n",
       "      <th>laufzeit</th>\n",
       "      <th>moral</th>\n",
       "      <th>verw</th>\n",
       "      <th>hoehe</th>\n",
       "      <th>sparkont</th>\n",
       "      <th>beszeit</th>\n",
       "      <th>rate</th>\n",
       "      <th>famges</th>\n",
       "      <th>...</th>\n",
       "      <th>wohnzeit</th>\n",
       "      <th>verm</th>\n",
       "      <th>alter</th>\n",
       "      <th>weitkred</th>\n",
       "      <th>wohn</th>\n",
       "      <th>bishkred</th>\n",
       "      <th>beruf</th>\n",
       "      <th>pers</th>\n",
       "      <th>telef</th>\n",
       "      <th>gastarb</th>\n",
       "    </tr>\n",
       "  </thead>\n",
       "  <tbody>\n",
       "    <tr>\n",
       "      <th>count</th>\n",
       "      <td>200.000000</td>\n",
       "      <td>200.000000</td>\n",
       "      <td>200.000000</td>\n",
       "      <td>200.000000</td>\n",
       "      <td>200.000000</td>\n",
       "      <td>200.000000</td>\n",
       "      <td>200.000</td>\n",
       "      <td>200.000000</td>\n",
       "      <td>200.000000</td>\n",
       "      <td>200.000000</td>\n",
       "      <td>...</td>\n",
       "      <td>200.000000</td>\n",
       "      <td>200.000000</td>\n",
       "      <td>200.000000</td>\n",
       "      <td>200.00000</td>\n",
       "      <td>200.000000</td>\n",
       "      <td>200.000000</td>\n",
       "      <td>200.000000</td>\n",
       "      <td>200.000000</td>\n",
       "      <td>200.000000</td>\n",
       "      <td>200.000000</td>\n",
       "    </tr>\n",
       "    <tr>\n",
       "      <th>mean</th>\n",
       "      <td>585.095000</td>\n",
       "      <td>2.290000</td>\n",
       "      <td>22.530000</td>\n",
       "      <td>2.395000</td>\n",
       "      <td>3.000000</td>\n",
       "      <td>3515.080000</td>\n",
       "      <td>1.950</td>\n",
       "      <td>3.340000</td>\n",
       "      <td>3.055000</td>\n",
       "      <td>2.660000</td>\n",
       "      <td>...</td>\n",
       "      <td>2.925000</td>\n",
       "      <td>2.375000</td>\n",
       "      <td>35.540000</td>\n",
       "      <td>2.68000</td>\n",
       "      <td>1.875000</td>\n",
       "      <td>1.355000</td>\n",
       "      <td>2.915000</td>\n",
       "      <td>1.845000</td>\n",
       "      <td>1.425000</td>\n",
       "      <td>1.985000</td>\n",
       "    </tr>\n",
       "    <tr>\n",
       "      <th>std</th>\n",
       "      <td>311.895834</td>\n",
       "      <td>1.246462</td>\n",
       "      <td>12.158877</td>\n",
       "      <td>1.001995</td>\n",
       "      <td>2.987411</td>\n",
       "      <td>2933.884667</td>\n",
       "      <td>1.536</td>\n",
       "      <td>1.144969</td>\n",
       "      <td>1.052384</td>\n",
       "      <td>0.753151</td>\n",
       "      <td>...</td>\n",
       "      <td>1.116066</td>\n",
       "      <td>1.024511</td>\n",
       "      <td>12.063834</td>\n",
       "      <td>0.69282</td>\n",
       "      <td>0.539286</td>\n",
       "      <td>0.538913</td>\n",
       "      <td>0.624278</td>\n",
       "      <td>0.362813</td>\n",
       "      <td>0.495584</td>\n",
       "      <td>0.121857</td>\n",
       "    </tr>\n",
       "    <tr>\n",
       "      <th>min</th>\n",
       "      <td>4.000000</td>\n",
       "      <td>1.000000</td>\n",
       "      <td>6.000000</td>\n",
       "      <td>0.000000</td>\n",
       "      <td>0.000000</td>\n",
       "      <td>338.000000</td>\n",
       "      <td>1.000</td>\n",
       "      <td>1.000000</td>\n",
       "      <td>1.000000</td>\n",
       "      <td>1.000000</td>\n",
       "      <td>...</td>\n",
       "      <td>1.000000</td>\n",
       "      <td>1.000000</td>\n",
       "      <td>20.000000</td>\n",
       "      <td>1.00000</td>\n",
       "      <td>1.000000</td>\n",
       "      <td>1.000000</td>\n",
       "      <td>1.000000</td>\n",
       "      <td>1.000000</td>\n",
       "      <td>1.000000</td>\n",
       "      <td>1.000000</td>\n",
       "    </tr>\n",
       "    <tr>\n",
       "      <th>25%</th>\n",
       "      <td>303.000000</td>\n",
       "      <td>1.000000</td>\n",
       "      <td>12.000000</td>\n",
       "      <td>2.000000</td>\n",
       "      <td>1.000000</td>\n",
       "      <td>1373.500000</td>\n",
       "      <td>1.000</td>\n",
       "      <td>3.000000</td>\n",
       "      <td>2.000000</td>\n",
       "      <td>2.000000</td>\n",
       "      <td>...</td>\n",
       "      <td>2.000000</td>\n",
       "      <td>1.000000</td>\n",
       "      <td>26.000000</td>\n",
       "      <td>3.00000</td>\n",
       "      <td>2.000000</td>\n",
       "      <td>1.000000</td>\n",
       "      <td>3.000000</td>\n",
       "      <td>2.000000</td>\n",
       "      <td>1.000000</td>\n",
       "      <td>2.000000</td>\n",
       "    </tr>\n",
       "    <tr>\n",
       "      <th>50%</th>\n",
       "      <td>661.000000</td>\n",
       "      <td>2.000000</td>\n",
       "      <td>19.000000</td>\n",
       "      <td>2.000000</td>\n",
       "      <td>2.000000</td>\n",
       "      <td>2443.000000</td>\n",
       "      <td>1.000</td>\n",
       "      <td>3.000000</td>\n",
       "      <td>3.000000</td>\n",
       "      <td>3.000000</td>\n",
       "      <td>...</td>\n",
       "      <td>3.000000</td>\n",
       "      <td>2.000000</td>\n",
       "      <td>33.000000</td>\n",
       "      <td>3.00000</td>\n",
       "      <td>2.000000</td>\n",
       "      <td>1.000000</td>\n",
       "      <td>3.000000</td>\n",
       "      <td>2.000000</td>\n",
       "      <td>1.000000</td>\n",
       "      <td>2.000000</td>\n",
       "    </tr>\n",
       "    <tr>\n",
       "      <th>75%</th>\n",
       "      <td>857.500000</td>\n",
       "      <td>4.000000</td>\n",
       "      <td>30.000000</td>\n",
       "      <td>3.000000</td>\n",
       "      <td>3.000000</td>\n",
       "      <td>4572.500000</td>\n",
       "      <td>2.250</td>\n",
       "      <td>4.000000</td>\n",
       "      <td>4.000000</td>\n",
       "      <td>3.000000</td>\n",
       "      <td>...</td>\n",
       "      <td>4.000000</td>\n",
       "      <td>3.000000</td>\n",
       "      <td>41.250000</td>\n",
       "      <td>3.00000</td>\n",
       "      <td>2.000000</td>\n",
       "      <td>2.000000</td>\n",
       "      <td>3.000000</td>\n",
       "      <td>2.000000</td>\n",
       "      <td>2.000000</td>\n",
       "      <td>2.000000</td>\n",
       "    </tr>\n",
       "    <tr>\n",
       "      <th>max</th>\n",
       "      <td>996.000000</td>\n",
       "      <td>4.000000</td>\n",
       "      <td>60.000000</td>\n",
       "      <td>4.000000</td>\n",
       "      <td>10.000000</td>\n",
       "      <td>14896.000000</td>\n",
       "      <td>5.000</td>\n",
       "      <td>5.000000</td>\n",
       "      <td>4.000000</td>\n",
       "      <td>4.000000</td>\n",
       "      <td>...</td>\n",
       "      <td>4.000000</td>\n",
       "      <td>4.000000</td>\n",
       "      <td>75.000000</td>\n",
       "      <td>3.00000</td>\n",
       "      <td>3.000000</td>\n",
       "      <td>4.000000</td>\n",
       "      <td>4.000000</td>\n",
       "      <td>2.000000</td>\n",
       "      <td>2.000000</td>\n",
       "      <td>2.000000</td>\n",
       "    </tr>\n",
       "  </tbody>\n",
       "</table>\n",
       "<p>8 rows × 21 columns</p>\n",
       "</div>"
      ],
      "text/plain": [
       "               Id    laufkont    laufzeit       moral        verw  \\\n",
       "count  200.000000  200.000000  200.000000  200.000000  200.000000   \n",
       "mean   585.095000    2.290000   22.530000    2.395000    3.000000   \n",
       "std    311.895834    1.246462   12.158877    1.001995    2.987411   \n",
       "min      4.000000    1.000000    6.000000    0.000000    0.000000   \n",
       "25%    303.000000    1.000000   12.000000    2.000000    1.000000   \n",
       "50%    661.000000    2.000000   19.000000    2.000000    2.000000   \n",
       "75%    857.500000    4.000000   30.000000    3.000000    3.000000   \n",
       "max    996.000000    4.000000   60.000000    4.000000   10.000000   \n",
       "\n",
       "              hoehe  sparkont     beszeit        rate      famges  ...  \\\n",
       "count    200.000000   200.000  200.000000  200.000000  200.000000  ...   \n",
       "mean    3515.080000     1.950    3.340000    3.055000    2.660000  ...   \n",
       "std     2933.884667     1.536    1.144969    1.052384    0.753151  ...   \n",
       "min      338.000000     1.000    1.000000    1.000000    1.000000  ...   \n",
       "25%     1373.500000     1.000    3.000000    2.000000    2.000000  ...   \n",
       "50%     2443.000000     1.000    3.000000    3.000000    3.000000  ...   \n",
       "75%     4572.500000     2.250    4.000000    4.000000    3.000000  ...   \n",
       "max    14896.000000     5.000    5.000000    4.000000    4.000000  ...   \n",
       "\n",
       "         wohnzeit        verm       alter   weitkred        wohn    bishkred  \\\n",
       "count  200.000000  200.000000  200.000000  200.00000  200.000000  200.000000   \n",
       "mean     2.925000    2.375000   35.540000    2.68000    1.875000    1.355000   \n",
       "std      1.116066    1.024511   12.063834    0.69282    0.539286    0.538913   \n",
       "min      1.000000    1.000000   20.000000    1.00000    1.000000    1.000000   \n",
       "25%      2.000000    1.000000   26.000000    3.00000    2.000000    1.000000   \n",
       "50%      3.000000    2.000000   33.000000    3.00000    2.000000    1.000000   \n",
       "75%      4.000000    3.000000   41.250000    3.00000    2.000000    2.000000   \n",
       "max      4.000000    4.000000   75.000000    3.00000    3.000000    4.000000   \n",
       "\n",
       "            beruf        pers       telef     gastarb  \n",
       "count  200.000000  200.000000  200.000000  200.000000  \n",
       "mean     2.915000    1.845000    1.425000    1.985000  \n",
       "std      0.624278    0.362813    0.495584    0.121857  \n",
       "min      1.000000    1.000000    1.000000    1.000000  \n",
       "25%      3.000000    2.000000    1.000000    2.000000  \n",
       "50%      3.000000    2.000000    1.000000    2.000000  \n",
       "75%      3.000000    2.000000    2.000000    2.000000  \n",
       "max      4.000000    2.000000    2.000000    2.000000  \n",
       "\n",
       "[8 rows x 21 columns]"
      ]
     },
     "execution_count": 35,
     "metadata": {},
     "output_type": "execute_result"
    }
   ],
   "source": [
    "X_test.describe()"
   ]
  },
  {
   "cell_type": "code",
   "execution_count": 36,
   "id": "3316628d",
   "metadata": {},
   "outputs": [
    {
     "name": "stdout",
     "output_type": "stream",
     "text": [
      "<class 'pandas.core.frame.DataFrame'>\n",
      "RangeIndex: 200 entries, 0 to 199\n",
      "Data columns (total 21 columns):\n",
      " #   Column    Non-Null Count  Dtype\n",
      "---  ------    --------------  -----\n",
      " 0   Id        200 non-null    int64\n",
      " 1   laufkont  200 non-null    int64\n",
      " 2   laufzeit  200 non-null    int64\n",
      " 3   moral     200 non-null    int64\n",
      " 4   verw      200 non-null    int64\n",
      " 5   hoehe     200 non-null    int64\n",
      " 6   sparkont  200 non-null    int64\n",
      " 7   beszeit   200 non-null    int64\n",
      " 8   rate      200 non-null    int64\n",
      " 9   famges    200 non-null    int64\n",
      " 10  buerge    200 non-null    int64\n",
      " 11  wohnzeit  200 non-null    int64\n",
      " 12  verm      200 non-null    int64\n",
      " 13  alter     200 non-null    int64\n",
      " 14  weitkred  200 non-null    int64\n",
      " 15  wohn      200 non-null    int64\n",
      " 16  bishkred  200 non-null    int64\n",
      " 17  beruf     200 non-null    int64\n",
      " 18  pers      200 non-null    int64\n",
      " 19  telef     200 non-null    int64\n",
      " 20  gastarb   200 non-null    int64\n",
      "dtypes: int64(21)\n",
      "memory usage: 32.9 KB\n"
     ]
    }
   ],
   "source": [
    "X_test.info()"
   ]
  },
  {
   "cell_type": "code",
   "execution_count": 37,
   "id": "2e48d25f",
   "metadata": {
    "scrolled": true
   },
   "outputs": [
    {
     "data": {
      "text/plain": [
       "Id          0\n",
       "laufkont    0\n",
       "laufzeit    0\n",
       "moral       0\n",
       "verw        0\n",
       "hoehe       0\n",
       "sparkont    0\n",
       "beszeit     0\n",
       "rate        0\n",
       "famges      0\n",
       "buerge      0\n",
       "wohnzeit    0\n",
       "verm        0\n",
       "alter       0\n",
       "weitkred    0\n",
       "wohn        0\n",
       "bishkred    0\n",
       "beruf       0\n",
       "pers        0\n",
       "telef       0\n",
       "gastarb     0\n",
       "dtype: int64"
      ]
     },
     "execution_count": 37,
     "metadata": {},
     "output_type": "execute_result"
    }
   ],
   "source": [
    "X_test.isnull().sum()"
   ]
  },
  {
   "cell_type": "code",
   "execution_count": 38,
   "id": "b3455aea",
   "metadata": {},
   "outputs": [],
   "source": [
    "Y_train = X_train['kredit']"
   ]
  },
  {
   "cell_type": "code",
   "execution_count": 39,
   "id": "bf1dc176",
   "metadata": {},
   "outputs": [],
   "source": [
    "#X_train.drop(['kredit'], axis=1,inplace=True)\n",
    "X_train.drop(['Id','telef','kredit'], axis=1,inplace=True) "
   ]
  },
  {
   "cell_type": "code",
   "execution_count": 40,
   "id": "ff034f9f",
   "metadata": {},
   "outputs": [],
   "source": [
    "X_test.drop(['Id','telef'], axis=1,inplace=True)"
   ]
  },
  {
   "cell_type": "code",
   "execution_count": 41,
   "id": "fd79b155",
   "metadata": {},
   "outputs": [
    {
     "data": {
      "text/plain": [
       "(800, 19)"
      ]
     },
     "execution_count": 41,
     "metadata": {},
     "output_type": "execute_result"
    }
   ],
   "source": [
    "X_train.shape"
   ]
  },
  {
   "cell_type": "code",
   "execution_count": 42,
   "id": "2916c6c0",
   "metadata": {},
   "outputs": [],
   "source": [
    "scale = MinMaxScaler()\n",
    "X_scaled_train = scale.fit_transform(X_train)"
   ]
  },
  {
   "cell_type": "code",
   "execution_count": 43,
   "id": "92d928d4",
   "metadata": {
    "scrolled": true
   },
   "outputs": [
    {
     "data": {
      "text/plain": [
       "(800, 19)"
      ]
     },
     "execution_count": 43,
     "metadata": {},
     "output_type": "execute_result"
    }
   ],
   "source": [
    "X_scaled_train.shape"
   ]
  },
  {
   "cell_type": "code",
   "execution_count": 44,
   "id": "61be5ea0",
   "metadata": {},
   "outputs": [
    {
     "data": {
      "text/plain": [
       "numpy.ndarray"
      ]
     },
     "execution_count": 44,
     "metadata": {},
     "output_type": "execute_result"
    }
   ],
   "source": [
    "type(X_scaled_train)"
   ]
  },
  {
   "cell_type": "code",
   "execution_count": 45,
   "id": "6cdb2cef",
   "metadata": {},
   "outputs": [
    {
     "data": {
      "text/plain": [
       "count    800.000000\n",
       "mean       0.750000\n",
       "std        0.433284\n",
       "min        0.000000\n",
       "25%        0.750000\n",
       "50%        1.000000\n",
       "75%        1.000000\n",
       "max        1.000000\n",
       "Name: kredit, dtype: float64"
      ]
     },
     "execution_count": 45,
     "metadata": {},
     "output_type": "execute_result"
    }
   ],
   "source": [
    "Y_train.describe()"
   ]
  },
  {
   "cell_type": "code",
   "execution_count": 46,
   "id": "9581fe08",
   "metadata": {},
   "outputs": [
    {
     "data": {
      "text/plain": [
       "(800,)"
      ]
     },
     "execution_count": 46,
     "metadata": {},
     "output_type": "execute_result"
    }
   ],
   "source": [
    "Y_train.shape"
   ]
  },
  {
   "cell_type": "code",
   "execution_count": 47,
   "id": "f338617d",
   "metadata": {},
   "outputs": [
    {
     "data": {
      "text/plain": [
       "0    200\n",
       "1    600\n",
       "Name: kredit, dtype: int64"
      ]
     },
     "execution_count": 47,
     "metadata": {},
     "output_type": "execute_result"
    }
   ],
   "source": [
    "Y_train.value_counts().sort_index()"
   ]
  },
  {
   "cell_type": "code",
   "execution_count": 48,
   "id": "62c75473",
   "metadata": {
    "scrolled": true
   },
   "outputs": [
    {
     "data": {
      "text/plain": [
       "<AxesSubplot:>"
      ]
     },
     "execution_count": 48,
     "metadata": {},
     "output_type": "execute_result"
    },
    {
     "data": {
      "image/png": "[encoded data removed]",
      "text/plain": [
       "<Figure size 432x288 with 1 Axes>"
      ]
     },
     "metadata": {
      "needs_background": "light"
     },
     "output_type": "display_data"
    }
   ],
   "source": [
    "Y_train.value_counts().sort_index().plot.bar()"
   ]
  },
  {
   "cell_type": "markdown",
   "id": "89503108",
   "metadata": {},
   "source": [
    "## K means Algorithms : "
   ]
  },
  {
   "cell_type": "code",
   "execution_count": 49,
   "id": "05b6b142",
   "metadata": {},
   "outputs": [
    {
     "data": {
      "text/plain": [
       "Text(0.5, 1.0, 'Elbow curve')"
      ]
     },
     "execution_count": 49,
     "metadata": {},
     "output_type": "execute_result"
    },
    {
     "data": {
      "image/png": "[encoded data removed]",
      "text/plain": [
       "<Figure size 1440x360 with 1 Axes>"
      ]
     },
     "metadata": {
      "needs_background": "light"
     },
     "output_type": "display_data"
    }
   ],
   "source": [
    "for_clustering = X_scaled_train\n",
    "distorsions = []\n",
    "for ik in range(2, 10):\n",
    "    kmeans = KMeans(n_clusters=ik)\n",
    "    kmeans.fit(for_clustering)\n",
    "    distorsions.append(kmeans.inertia_) # adding the sum of squared errors\n",
    "\n",
    "# plotting the chart\n",
    "fig = plt.figure(figsize=(20, 5))\n",
    "plt.plot(range(2, 10), distorsions)\n",
    "plt.grid(True)\n",
    "plt.title('Elbow curve')"
   ]
  },
  {
   "cell_type": "code",
   "execution_count": 50,
   "id": "72e79054",
   "metadata": {},
   "outputs": [
    {
     "data": {
      "text/plain": [
       "KMeans(max_iter=1000, n_clusters=2)"
      ]
     },
     "execution_count": 50,
     "metadata": {},
     "output_type": "execute_result"
    }
   ],
   "source": [
    "modelKMean = KMeans(n_clusters=2, max_iter=1000)\n",
    "modelKMean.fit(X_scaled_train)"
   ]
  },
  {
   "cell_type": "code",
   "execution_count": 51,
   "id": "33f67e0e",
   "metadata": {},
   "outputs": [
    {
     "data": {
      "text/plain": [
       "19"
      ]
     },
     "execution_count": 51,
     "metadata": {},
     "output_type": "execute_result"
    }
   ],
   "source": [
    "modelKMean.n_features_in_"
   ]
  },
  {
   "cell_type": "code",
   "execution_count": 52,
   "id": "71323815",
   "metadata": {
    "scrolled": true
   },
   "outputs": [
    {
     "data": {
      "text/plain": [
       "array([[0.1958042 , 0.25743864, 0.58216783, 0.27202797, 0.17573223,\n",
       "        0.20104895, 0.54137529, 0.63480963, 0.55400155, 0.1048951 ,\n",
       "        0.5982906 , 0.45998446, 0.27497502, 0.8018648 , 0.46620047,\n",
       "        0.11732712, 0.62548563, 0.85314685, 0.95804196],\n",
       "       [0.95867026, 0.22542413, 0.7190027 , 0.28598383, 0.14803144,\n",
       "        0.38409704, 0.66509434, 0.66936208, 0.57232704, 0.03369272,\n",
       "        0.61994609, 0.44115004, 0.31902195, 0.87735849, 0.47574124,\n",
       "        0.16621743, 0.64330638, 0.83557951, 0.95687332]])"
      ]
     },
     "execution_count": 52,
     "metadata": {},
     "output_type": "execute_result"
    }
   ],
   "source": [
    "modelKMean.cluster_centers_"
   ]
  },
  {
   "cell_type": "code",
   "execution_count": 53,
   "id": "61a6f18f",
   "metadata": {},
   "outputs": [
    {
     "data": {
      "text/plain": [
       "array([0, 0, 0, 0, 0, 0, 0, 1, 0, 0, 0, 0, 0, 0, 0, 0, 1, 0, 0, 0, 0, 0,\n",
       "       1, 1, 1, 1, 1, 0, 0, 1, 1, 1, 1, 1, 0, 1, 1, 0, 1, 1, 1, 0, 1, 1,\n",
       "       0, 1, 0, 1, 1, 1, 1, 1, 1, 1, 0, 1, 0, 1, 1, 1, 0, 1, 1, 1, 1, 1,\n",
       "       1, 0, 1, 1, 0, 0, 0, 0, 0, 0, 0, 0, 1, 0, 1, 1, 1, 1, 0, 0, 1, 0,\n",
       "       0, 1, 1, 1, 0, 1, 0, 1, 1, 1, 1, 1, 1, 0, 1, 0, 1, 1, 1, 0, 1, 1,\n",
       "       0, 1, 1, 0, 0, 1, 0, 1, 1, 1, 0, 1, 1, 0, 1, 1, 1, 1, 0, 1, 1, 1,\n",
       "       1, 1, 0, 1, 1, 1, 1, 1, 0, 1, 1, 1, 1, 0, 1, 1, 1, 1, 1, 0, 0, 1,\n",
       "       0, 1, 1, 1, 1, 1, 1, 1, 1, 0, 0, 0, 0, 0, 1, 1, 0, 0, 1, 0, 0, 1,\n",
       "       1, 0, 1, 0, 1, 1, 1, 0, 1, 0, 1, 1, 0, 1, 1, 0, 0, 1, 0, 1, 1, 1,\n",
       "       1, 1, 1, 1, 0, 1, 0, 1, 1, 1, 0, 1, 1, 1, 1, 0, 1, 1, 0, 1, 1, 1,\n",
       "       1, 1, 1, 1, 1, 0, 0, 1, 0, 0, 1, 0, 0, 1, 1, 1, 1, 1, 1, 0, 1, 1,\n",
       "       1, 1, 0, 1, 0, 0, 0, 1, 1, 0, 0, 1, 1, 1, 1, 0, 0, 1, 1, 1, 1, 1,\n",
       "       1, 1, 0, 1, 1, 1, 1, 1, 1, 1, 1, 1, 1, 1, 0, 0, 0, 1, 1, 1, 0, 1,\n",
       "       1, 1, 1, 1, 1, 0, 1, 1, 1, 1, 0, 1, 1, 1, 1, 0, 1, 1, 1, 1, 0, 0,\n",
       "       0, 1, 0, 0, 1, 0, 0, 1, 0, 1, 0, 1, 0, 1, 0, 1, 1, 1, 1, 0, 0, 1,\n",
       "       0, 0, 1, 1, 0, 1, 0, 1, 1, 1, 1, 1, 1, 1, 1, 0, 1, 0, 0, 1, 1, 0,\n",
       "       0, 0, 1, 0, 0, 1, 1, 1, 1, 0, 0, 1, 1, 1, 1, 1, 1, 1, 0, 0, 0, 0,\n",
       "       0, 0, 0, 0, 1, 0, 0, 0, 1, 0, 1, 0, 1, 1, 1, 1, 1, 1, 1, 1, 1, 0,\n",
       "       1, 0, 1, 1, 1, 1, 1, 1, 1, 1, 1, 0, 1, 0, 1, 1, 1, 0, 1, 1, 1, 1,\n",
       "       1, 1, 1, 1, 0, 1, 1, 0, 0, 1, 0, 0, 0, 1, 0, 0, 1, 1, 1, 1, 0, 0,\n",
       "       1, 1, 1, 0, 0, 0, 1, 0, 1, 0, 1, 1, 1, 1, 0, 1, 0, 0, 1, 0, 1, 1,\n",
       "       1, 1, 0, 1, 1, 1, 0, 1, 0, 0, 0, 0, 0, 0, 0, 0, 0, 0, 0, 0, 1, 0,\n",
       "       0, 0, 0, 0, 0, 0, 0, 0, 0, 0, 0, 0, 1, 1, 0, 0, 0, 0, 1, 1, 0, 0,\n",
       "       0, 0, 0, 0, 0, 0, 0, 0, 0, 0, 0, 1, 0, 1, 1, 0, 1, 1, 1, 0, 0, 0,\n",
       "       0, 0, 0, 0, 0, 0, 0, 0, 0, 0, 0, 0, 1, 0, 0, 0, 0, 0, 0, 1, 1, 0,\n",
       "       0, 0, 1, 0, 0, 1, 1, 0, 1, 0, 0, 0, 0, 0, 1, 1, 1, 1, 0, 1, 1, 1,\n",
       "       1, 0, 1, 1, 1, 0, 0, 1, 1, 1, 0, 0, 1, 1, 0, 0, 1, 0, 0, 1, 1, 1,\n",
       "       1, 1, 0, 1, 1, 0, 0, 1, 0, 0, 0, 0, 0, 0, 1, 0, 0, 1, 1, 1, 1, 1,\n",
       "       0, 0, 0, 0, 0, 0, 0, 1, 0, 0, 0, 0, 0, 0, 0, 0, 0, 0, 1, 0, 0, 0,\n",
       "       1, 0, 0, 0, 0, 0, 0, 0, 0, 0, 1, 0, 1, 0, 0, 0, 0, 0, 0, 1, 0, 0,\n",
       "       0, 0, 1, 0, 0, 0, 0, 0, 0, 0, 0, 0, 0, 0, 0, 0, 0, 0, 0, 0, 0, 1,\n",
       "       0, 0, 1, 0, 0, 0, 0, 0, 0, 0, 0, 0, 0, 1, 1, 1, 0, 0, 0, 0, 0, 0,\n",
       "       0, 0, 0, 1, 0, 1, 0, 0, 0, 0, 1, 0, 0, 0, 0, 0, 0, 0, 0, 0, 0, 0,\n",
       "       0, 0, 0, 0, 0, 0, 0, 1, 1, 1, 0, 0, 0, 0, 0, 0, 0, 0, 0, 0, 0, 0,\n",
       "       0, 0, 0, 0, 0, 0, 0, 0, 0, 0, 0, 0, 1, 0, 1, 0, 0, 0, 1, 0, 1, 0,\n",
       "       0, 0, 0, 0, 0, 0, 0, 1, 0, 0, 0, 0, 0, 0, 0, 0, 0, 0, 1, 0, 0, 0,\n",
       "       0, 0, 0, 0, 0, 1, 0, 0])"
      ]
     },
     "execution_count": 53,
     "metadata": {},
     "output_type": "execute_result"
    }
   ],
   "source": [
    "labels = modelKMean.labels_\n",
    "labels"
   ]
  },
  {
   "cell_type": "markdown",
   "id": "6aa0af30",
   "metadata": {},
   "source": [
    "## Model Evaluation"
   ]
  },
  {
   "cell_type": "markdown",
   "id": "c11c3d50",
   "metadata": {},
   "source": [
    "### Accuracy "
   ]
  },
  {
   "cell_type": "code",
   "execution_count": 54,
   "id": "907ba3c4",
   "metadata": {},
   "outputs": [
    {
     "name": "stdout",
     "output_type": "stream",
     "text": [
      "Accuracy on Training data :  25.0 %\n"
     ]
    }
   ],
   "source": [
    "# accuracy on training data\n",
    "y_train_predict = modelKMean.predict(X_train.values)\n",
    "training_data_accuracy = accuracy_score(y_train_predict,Y_train)\n",
    "print('Accuracy on Training data : ', round(training_data_accuracy*100, 2), '%')"
   ]
  },
  {
   "cell_type": "markdown",
   "id": "28caa607",
   "metadata": {},
   "source": [
    "### Precision\n",
    "\n",
    "Precision is the ratio of number of True Positive to the total number of Predicted Positive. It measures, out of the total predicted positive, how many are actually positive."
   ]
  },
  {
   "cell_type": "code",
   "execution_count": 55,
   "id": "61f372a2",
   "metadata": {},
   "outputs": [
    {
     "name": "stdout",
     "output_type": "stream",
     "text": [
      "Training data Precision = 0.25\n"
     ]
    },
    {
     "name": "stderr",
     "output_type": "stream",
     "text": [
      "C:\\Users\\Mohanad\\anaconda3\\lib\\site-packages\\sklearn\\metrics\\_classification.py:1298: UserWarning: Note that pos_label (set to 'positive') is ignored when average != 'binary' (got 'micro'). You may use labels=[pos_label] to specify a single positive class.\n",
      "  warnings.warn(\"Note that pos_label (set to %r) is ignored when \"\n"
     ]
    }
   ],
   "source": [
    "# precision for training data predictions\n",
    "precision_train = precision_score(Y_train, y_train_predict, pos_label='positive', average='micro')\n",
    "print('Training data Precision =', precision_train)"
   ]
  },
  {
   "cell_type": "markdown",
   "id": "7e42da57",
   "metadata": {},
   "source": [
    "### Recall\n",
    "\n",
    "Recall is the ratio of number of True Positive to the total number of Actual Positive. It measures, out of the total actual positive, how many are predicted as True Positive."
   ]
  },
  {
   "cell_type": "code",
   "execution_count": 56,
   "id": "463e68b0",
   "metadata": {},
   "outputs": [
    {
     "name": "stdout",
     "output_type": "stream",
     "text": [
      "Training data Recall = 0.25\n"
     ]
    },
    {
     "name": "stderr",
     "output_type": "stream",
     "text": [
      "C:\\Users\\Mohanad\\anaconda3\\lib\\site-packages\\sklearn\\metrics\\_classification.py:1298: UserWarning: Note that pos_label (set to 'positive') is ignored when average != 'binary' (got 'micro'). You may use labels=[pos_label] to specify a single positive class.\n",
      "  warnings.warn(\"Note that pos_label (set to %r) is ignored when \"\n"
     ]
    }
   ],
   "source": [
    "# recall for training data predictions\n",
    "recall_train = recall_score(Y_train, y_train_predict, pos_label='positive', average='micro')\n",
    "print('Training data Recall =', recall_train)"
   ]
  },
  {
   "cell_type": "markdown",
   "id": "85ea79f5",
   "metadata": {},
   "source": [
    "### F1 Score\n",
    "\n",
    "F1 Score is an important evaluation metric for binary classification that combines Precision & Recall. F1 Score is the harmonic mean of Precision & Recall."
   ]
  },
  {
   "cell_type": "code",
   "execution_count": 57,
   "id": "5be59d9d",
   "metadata": {},
   "outputs": [
    {
     "name": "stdout",
     "output_type": "stream",
     "text": [
      "Training data F1 Score = 0.25\n"
     ]
    },
    {
     "name": "stderr",
     "output_type": "stream",
     "text": [
      "C:\\Users\\Mohanad\\anaconda3\\lib\\site-packages\\sklearn\\metrics\\_classification.py:1298: UserWarning: Note that pos_label (set to 'positive') is ignored when average != 'binary' (got 'micro'). You may use labels=[pos_label] to specify a single positive class.\n",
      "  warnings.warn(\"Note that pos_label (set to %r) is ignored when \"\n"
     ]
    }
   ],
   "source": [
    "# F1 score for training data predictions\n",
    "f1_score_train = f1_score(Y_train, y_train_predict, pos_label='positive', average='micro')\n",
    "print('Training data F1 Score =', f1_score_train)"
   ]
  },
  {
   "cell_type": "markdown",
   "id": "7208d285",
   "metadata": {},
   "source": [
    "# Fuzzy C mean "
   ]
  },
  {
   "cell_type": "code",
   "execution_count": 58,
   "id": "0610a84d",
   "metadata": {},
   "outputs": [],
   "source": [
    "modelCMean = FCM(n_clusters=2, max_iter=1000, m=2)\n",
    "modelCMean.fit(X_scaled_train)"
   ]
  },
  {
   "cell_type": "code",
   "execution_count": 59,
   "id": "34ee6a1c",
   "metadata": {},
   "outputs": [
    {
     "data": {
      "text/plain": [
       "1000"
      ]
     },
     "execution_count": 59,
     "metadata": {},
     "output_type": "execute_result"
    }
   ],
   "source": [
    "modelCMean.max_iter"
   ]
  },
  {
   "cell_type": "code",
   "execution_count": 60,
   "id": "a858df08",
   "metadata": {},
   "outputs": [
    {
     "data": {
      "text/plain": [
       "array([[0.54958289, 0.2425919 , 0.64562488, 0.27849998, 0.16288599,\n",
       "        0.28593723, 0.59874984, 0.65083324, 0.56249998, 0.07187505,\n",
       "        0.60833324, 0.45124993, 0.29540172, 0.83687496, 0.47062496,\n",
       "        0.13999995, 0.63374997, 0.84500001, 0.95749999],\n",
       "       [0.54958378, 0.24259192, 0.64562512, 0.27850002, 0.16288599,\n",
       "        0.28593777, 0.59875016, 0.65083343, 0.56250002, 0.07187495,\n",
       "        0.60833343, 0.45125007, 0.29540185, 0.83687504, 0.47062504,\n",
       "        0.14000005, 0.63375003, 0.84499999, 0.95750001]])"
      ]
     },
     "execution_count": 60,
     "metadata": {},
     "output_type": "execute_result"
    }
   ],
   "source": [
    "FCMean_center = modelCMean.centers\n",
    "FCMean_center"
   ]
  },
  {
   "cell_type": "code",
   "execution_count": 61,
   "id": "ed7448fc",
   "metadata": {},
   "outputs": [
    {
     "data": {
      "text/plain": [
       "array([0, 0, 0, 0, 0, 0, 0, 1, 0, 0, 0, 0, 0, 0, 0, 0, 1, 0, 0, 0, 0, 0,\n",
       "       1, 1, 1, 1, 1, 0, 0, 1, 1, 1, 1, 1, 0, 1, 1, 1, 1, 1, 1, 0, 1, 1,\n",
       "       0, 1, 0, 1, 1, 1, 1, 1, 1, 1, 0, 1, 1, 1, 1, 1, 1, 1, 1, 1, 1, 1,\n",
       "       1, 0, 1, 1, 0, 1, 0, 1, 0, 0, 0, 0, 1, 0, 0, 1, 1, 1, 0, 1, 1, 1,\n",
       "       0, 1, 1, 1, 0, 1, 0, 1, 1, 1, 1, 1, 1, 0, 1, 0, 0, 1, 1, 0, 1, 1,\n",
       "       1, 1, 1, 1, 0, 1, 0, 1, 0, 1, 0, 1, 1, 0, 1, 1, 1, 1, 0, 1, 1, 1,\n",
       "       1, 1, 0, 0, 1, 1, 1, 1, 0, 1, 1, 0, 1, 0, 1, 1, 1, 1, 1, 0, 0, 1,\n",
       "       1, 1, 1, 1, 1, 1, 0, 1, 1, 0, 0, 0, 0, 1, 1, 1, 0, 0, 0, 0, 0, 1,\n",
       "       0, 0, 1, 0, 1, 1, 1, 0, 1, 0, 1, 1, 0, 1, 1, 0, 0, 1, 0, 0, 1, 1,\n",
       "       1, 1, 1, 1, 0, 1, 0, 1, 1, 1, 0, 0, 1, 0, 1, 0, 1, 1, 0, 1, 1, 1,\n",
       "       1, 1, 1, 1, 1, 0, 0, 1, 0, 0, 1, 0, 0, 0, 0, 1, 1, 1, 1, 0, 1, 0,\n",
       "       1, 1, 0, 1, 0, 0, 0, 1, 1, 0, 0, 1, 1, 1, 1, 0, 0, 1, 1, 1, 1, 1,\n",
       "       1, 1, 0, 1, 1, 1, 1, 1, 1, 1, 1, 1, 1, 1, 0, 0, 0, 1, 1, 1, 0, 1,\n",
       "       0, 1, 1, 1, 1, 0, 1, 1, 1, 1, 0, 1, 1, 1, 1, 0, 1, 1, 1, 1, 0, 0,\n",
       "       0, 1, 1, 0, 1, 0, 0, 1, 0, 1, 0, 1, 0, 1, 0, 1, 1, 1, 1, 0, 0, 1,\n",
       "       0, 0, 1, 1, 1, 1, 0, 1, 1, 1, 1, 1, 1, 1, 1, 0, 1, 1, 0, 1, 1, 0,\n",
       "       0, 0, 1, 0, 1, 1, 1, 1, 1, 0, 0, 1, 1, 1, 1, 1, 1, 1, 0, 1, 0, 0,\n",
       "       0, 0, 0, 0, 1, 0, 0, 0, 1, 1, 1, 0, 1, 1, 1, 1, 1, 1, 1, 1, 1, 0,\n",
       "       1, 0, 1, 1, 1, 1, 1, 1, 1, 0, 1, 0, 1, 0, 1, 1, 1, 0, 1, 1, 1, 1,\n",
       "       1, 1, 1, 1, 0, 1, 1, 0, 0, 1, 0, 1, 0, 1, 0, 0, 1, 1, 1, 1, 0, 0,\n",
       "       1, 1, 1, 0, 1, 0, 1, 1, 1, 0, 1, 1, 1, 1, 0, 1, 0, 0, 1, 0, 1, 1,\n",
       "       1, 1, 0, 1, 1, 1, 0, 1, 0, 0, 0, 0, 0, 0, 0, 0, 0, 0, 0, 0, 1, 0,\n",
       "       0, 0, 0, 0, 1, 0, 0, 0, 0, 0, 0, 0, 1, 1, 0, 0, 0, 0, 1, 1, 0, 0,\n",
       "       0, 0, 0, 0, 0, 0, 0, 0, 0, 0, 0, 1, 0, 1, 1, 0, 1, 1, 1, 0, 0, 0,\n",
       "       0, 0, 0, 0, 0, 0, 0, 0, 0, 0, 0, 0, 1, 0, 0, 1, 0, 0, 1, 1, 1, 0,\n",
       "       0, 0, 1, 0, 0, 0, 1, 0, 1, 0, 1, 0, 0, 1, 1, 1, 1, 1, 0, 1, 1, 0,\n",
       "       1, 0, 1, 1, 1, 0, 0, 1, 1, 1, 1, 0, 1, 1, 0, 0, 1, 0, 0, 1, 1, 1,\n",
       "       1, 0, 1, 1, 1, 1, 0, 1, 0, 0, 0, 0, 0, 0, 1, 0, 0, 1, 1, 1, 1, 1,\n",
       "       0, 0, 0, 0, 1, 0, 0, 1, 0, 0, 0, 0, 0, 0, 0, 0, 0, 0, 1, 0, 0, 1,\n",
       "       1, 0, 0, 0, 0, 0, 0, 0, 0, 0, 1, 0, 1, 0, 0, 0, 0, 0, 0, 1, 0, 0,\n",
       "       0, 0, 1, 0, 1, 0, 0, 0, 1, 0, 1, 1, 0, 1, 0, 0, 0, 0, 0, 0, 0, 1,\n",
       "       0, 0, 0, 0, 0, 0, 0, 0, 0, 0, 0, 0, 0, 1, 1, 1, 1, 0, 0, 0, 0, 1,\n",
       "       0, 0, 0, 1, 0, 1, 0, 0, 0, 0, 0, 0, 0, 0, 0, 1, 0, 0, 0, 0, 0, 0,\n",
       "       0, 0, 0, 0, 0, 0, 0, 1, 1, 1, 1, 0, 0, 0, 0, 0, 0, 0, 0, 0, 0, 0,\n",
       "       0, 0, 0, 0, 0, 0, 0, 0, 0, 0, 1, 0, 1, 0, 1, 1, 0, 0, 0, 0, 1, 0,\n",
       "       0, 0, 0, 0, 0, 0, 0, 1, 0, 0, 0, 0, 0, 0, 1, 0, 0, 0, 1, 0, 0, 0,\n",
       "       0, 0, 1, 0, 0, 1, 0, 1], dtype=int64)"
      ]
     },
     "execution_count": 61,
     "metadata": {},
     "output_type": "execute_result"
    }
   ],
   "source": [
    "FCMean_label = modelCMean.predict(X_scaled_train)\n",
    "FCMean_label"
   ]
  },
  {
   "cell_type": "markdown",
   "id": "88d5e9f6",
   "metadata": {},
   "source": [
    "## Model Evaluation"
   ]
  },
  {
   "cell_type": "markdown",
   "id": "fdcc5e5e",
   "metadata": {},
   "source": [
    "### Accuracy "
   ]
  },
  {
   "cell_type": "code",
   "execution_count": 62,
   "id": "dba5391b",
   "metadata": {},
   "outputs": [
    {
     "name": "stdout",
     "output_type": "stream",
     "text": [
      "Accuracy on Training data :  75.0 %\n"
     ]
    }
   ],
   "source": [
    "# accuracy on training data\n",
    "y_train_predict_cmean = modelCMean.predict(X_train.values)\n",
    "training_data_accuracy = accuracy_score(y_train_predict_cmean,Y_train)\n",
    "print('Accuracy on Training data : ', round(training_data_accuracy*100, 2), '%')"
   ]
  },
  {
   "cell_type": "markdown",
   "id": "6fe7fdde",
   "metadata": {},
   "source": [
    "### Precision\n",
    "\n",
    "Precision is the ratio of number of True Positive to the total number of Predicted Positive. It measures, out of the total predicted positive, how many are actually positive."
   ]
  },
  {
   "cell_type": "code",
   "execution_count": 63,
   "id": "bdcb3cab",
   "metadata": {},
   "outputs": [
    {
     "name": "stdout",
     "output_type": "stream",
     "text": [
      "Training data Precision = 0.75\n"
     ]
    },
    {
     "name": "stderr",
     "output_type": "stream",
     "text": [
      "C:\\Users\\Mohanad\\anaconda3\\lib\\site-packages\\sklearn\\metrics\\_classification.py:1298: UserWarning: Note that pos_label (set to 'positive') is ignored when average != 'binary' (got 'micro'). You may use labels=[pos_label] to specify a single positive class.\n",
      "  warnings.warn(\"Note that pos_label (set to %r) is ignored when \"\n"
     ]
    }
   ],
   "source": [
    "# precision for training data predictions\n",
    "precision_train_cmean = precision_score(Y_train, y_train_predict_cmean, pos_label='positive', average='micro')\n",
    "print('Training data Precision =', precision_train_cmean)"
   ]
  },
  {
   "cell_type": "markdown",
   "id": "be165fb2",
   "metadata": {},
   "source": [
    "### Recall\n",
    "\n",
    "Recall is the ratio of number of True Positive to the total number of Actual Positive. It measures, out of the total actual positive, how many are predicted as True Positive."
   ]
  },
  {
   "cell_type": "code",
   "execution_count": 64,
   "id": "2c4197ed",
   "metadata": {},
   "outputs": [
    {
     "name": "stdout",
     "output_type": "stream",
     "text": [
      "Training data Recall = 0.75\n"
     ]
    },
    {
     "name": "stderr",
     "output_type": "stream",
     "text": [
      "C:\\Users\\Mohanad\\anaconda3\\lib\\site-packages\\sklearn\\metrics\\_classification.py:1298: UserWarning: Note that pos_label (set to 'positive') is ignored when average != 'binary' (got 'micro'). You may use labels=[pos_label] to specify a single positive class.\n",
      "  warnings.warn(\"Note that pos_label (set to %r) is ignored when \"\n"
     ]
    }
   ],
   "source": [
    "# recall for training data predictions\n",
    "recall_train_cmean = recall_score(Y_train, y_train_predict_cmean, pos_label='positive', average='micro')\n",
    "print('Training data Recall =', recall_train_cmean)"
   ]
  },
  {
   "cell_type": "markdown",
   "id": "ff7186f7",
   "metadata": {},
   "source": [
    "### F1 Score\n",
    "\n",
    "F1 Score is an important evaluation metric for binary classification that combines Precision & Recall. F1 Score is the harmonic mean of Precision & Recall."
   ]
  },
  {
   "cell_type": "code",
   "execution_count": 65,
   "id": "3bb6cb69",
   "metadata": {},
   "outputs": [
    {
     "name": "stdout",
     "output_type": "stream",
     "text": [
      "Training data F1 Score = 0.75\n"
     ]
    },
    {
     "name": "stderr",
     "output_type": "stream",
     "text": [
      "C:\\Users\\Mohanad\\anaconda3\\lib\\site-packages\\sklearn\\metrics\\_classification.py:1298: UserWarning: Note that pos_label (set to 'positive') is ignored when average != 'binary' (got 'micro'). You may use labels=[pos_label] to specify a single positive class.\n",
      "  warnings.warn(\"Note that pos_label (set to %r) is ignored when \"\n"
     ]
    }
   ],
   "source": [
    "# F1 score for training data predictions\n",
    "f1_score_train_cmean = f1_score(Y_train, y_train_predict_cmean, pos_label='positive', average='micro')\n",
    "print('Training data F1 Score =', f1_score_train_cmean)"
   ]
  },
  {
   "cell_type": "markdown",
   "id": "d29ae396",
   "metadata": {},
   "source": [
    "# SVM"
   ]
  },
  {
   "cell_type": "code",
   "execution_count": 66,
   "id": "c4b356f0",
   "metadata": {},
   "outputs": [
    {
     "data": {
      "text/plain": [
       "SVC()"
      ]
     },
     "execution_count": 66,
     "metadata": {},
     "output_type": "execute_result"
    }
   ],
   "source": [
    "model_svm = SVC()\n",
    "model_svm.fit(X_scaled_train,Y_train)"
   ]
  },
  {
   "cell_type": "code",
   "execution_count": 67,
   "id": "da8bcc9f",
   "metadata": {},
   "outputs": [
    {
     "data": {
      "text/plain": [
       "array([0, 1], dtype=int64)"
      ]
     },
     "execution_count": 67,
     "metadata": {},
     "output_type": "execute_result"
    }
   ],
   "source": [
    "model_svm.classes_"
   ]
  },
  {
   "cell_type": "markdown",
   "id": "f4f88ec0",
   "metadata": {},
   "source": [
    "## Model Evaluation"
   ]
  },
  {
   "cell_type": "markdown",
   "id": "27ff3043",
   "metadata": {},
   "source": [
    "### Accuracy "
   ]
  },
  {
   "cell_type": "code",
   "execution_count": 68,
   "id": "507b7baf",
   "metadata": {},
   "outputs": [
    {
     "name": "stdout",
     "output_type": "stream",
     "text": [
      "Accuracy on Training data :  75.0 %\n"
     ]
    }
   ],
   "source": [
    "# accuracy on training data\n",
    "y_train_predict_svm = modelCMean.predict(X_train.values)\n",
    "training_data_accuracy = accuracy_score(y_train_predict_svm,Y_train)\n",
    "print('Accuracy on Training data : ', round(training_data_accuracy*100, 2), '%')"
   ]
  },
  {
   "cell_type": "markdown",
   "id": "11619dfd",
   "metadata": {},
   "source": [
    "### Precision\n",
    "\n",
    "Precision is the ratio of number of True Positive to the total number of Predicted Positive. It measures, out of the total predicted positive, how many are actually positive."
   ]
  },
  {
   "cell_type": "code",
   "execution_count": 69,
   "id": "1805ae83",
   "metadata": {},
   "outputs": [
    {
     "name": "stdout",
     "output_type": "stream",
     "text": [
      "Training data Precision = 0.75\n"
     ]
    },
    {
     "name": "stderr",
     "output_type": "stream",
     "text": [
      "C:\\Users\\Mohanad\\anaconda3\\lib\\site-packages\\sklearn\\metrics\\_classification.py:1298: UserWarning: Note that pos_label (set to 'positive') is ignored when average != 'binary' (got 'micro'). You may use labels=[pos_label] to specify a single positive class.\n",
      "  warnings.warn(\"Note that pos_label (set to %r) is ignored when \"\n"
     ]
    }
   ],
   "source": [
    "# precision for training data predictions\n",
    "precision_train_svm = precision_score(Y_train, y_train_predict_svm, pos_label='positive', average='micro')\n",
    "print('Training data Precision =', precision_train_svm)"
   ]
  },
  {
   "cell_type": "markdown",
   "id": "865fe7c1",
   "metadata": {},
   "source": [
    "### Recall\n",
    "\n",
    "Recall is the ratio of number of True Positive to the total number of Actual Positive. It measures, out of the total actual positive, how many are predicted as True Positive."
   ]
  },
  {
   "cell_type": "code",
   "execution_count": 70,
   "id": "371f47f9",
   "metadata": {},
   "outputs": [
    {
     "name": "stdout",
     "output_type": "stream",
     "text": [
      "Training data Recall = 0.75\n"
     ]
    },
    {
     "name": "stderr",
     "output_type": "stream",
     "text": [
      "C:\\Users\\Mohanad\\anaconda3\\lib\\site-packages\\sklearn\\metrics\\_classification.py:1298: UserWarning: Note that pos_label (set to 'positive') is ignored when average != 'binary' (got 'micro'). You may use labels=[pos_label] to specify a single positive class.\n",
      "  warnings.warn(\"Note that pos_label (set to %r) is ignored when \"\n"
     ]
    }
   ],
   "source": [
    "# recall for training data predictions\n",
    "recall_train_svm = recall_score(Y_train, y_train_predict_svm, pos_label='positive', average='micro')\n",
    "print('Training data Recall =', recall_train_svm)"
   ]
  },
  {
   "cell_type": "markdown",
   "id": "6809ba60",
   "metadata": {},
   "source": [
    "### F1 Score\n",
    "\n",
    "F1 Score is an important evaluation metric for binary classification that combines Precision & Recall. F1 Score is the harmonic mean of Precision & Recall."
   ]
  },
  {
   "cell_type": "code",
   "execution_count": 71,
   "id": "0547a65a",
   "metadata": {},
   "outputs": [
    {
     "name": "stdout",
     "output_type": "stream",
     "text": [
      "Training data F1 Score = 0.75\n"
     ]
    },
    {
     "name": "stderr",
     "output_type": "stream",
     "text": [
      "C:\\Users\\Mohanad\\anaconda3\\lib\\site-packages\\sklearn\\metrics\\_classification.py:1298: UserWarning: Note that pos_label (set to 'positive') is ignored when average != 'binary' (got 'micro'). You may use labels=[pos_label] to specify a single positive class.\n",
      "  warnings.warn(\"Note that pos_label (set to %r) is ignored when \"\n"
     ]
    }
   ],
   "source": [
    "# F1 score for training data predictions\n",
    "f1_score_train_svm = f1_score(Y_train, y_train_predict_svm, pos_label='positive', average='micro')\n",
    "print('Training data F1 Score =', f1_score_train_svm)"
   ]
  }
 ],
 "metadata": {
  "kernelspec": {
   "display_name": "Python 3 (ipykernel)",
   "language": "python",
   "name": "python3"
  },
  "language_info": {
   "codemirror_mode": {
    "name": "ipython",
    "version": 3
   },
   "file_extension": ".py",
   "mimetype": "text/x-python",
   "name": "python",
   "nbconvert_exporter": "python",
   "pygments_lexer": "ipython3",
   "version": "3.9.7"
  },
  "varInspector": {
   "cols": {
    "lenName": 16,
    "lenType": 16,
    "lenVar": 40
   },
   "kernels_config": {
    "python": {
     "delete_cmd_postfix": "",
     "delete_cmd_prefix": "del ",
     "library": "var_list.py",
     "varRefreshCmd": "print(var_dic_list())"
    },
    "r": {
     "delete_cmd_postfix": ") ",
     "delete_cmd_prefix": "rm(",
     "library": "var_list.r",
     "varRefreshCmd": "cat(var_dic_list()) "
    }
   },
   "types_to_exclude": [
    "module",
    "function",
    "builtin_function_or_method",
    "instance",
    "_Feature"
   ],
   "window_display": false
  }
 },
 "nbformat": 4,
 "nbformat_minor": 5
}
